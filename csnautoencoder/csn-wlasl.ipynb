{
 "cells": [
  {
   "cell_type": "markdown",
   "id": "b8d3c9fd",
   "metadata": {},
   "source": [
    "## Imports"
   ]
  },
  {
   "cell_type": "code",
   "execution_count": 2,
   "id": "cf5a50ac",
   "metadata": {},
   "outputs": [
    {
     "name": "stderr",
     "output_type": "stream",
     "text": [
      "/home/sadat/miniconda3/envs/dataloader/lib/python3.8/site-packages/tqdm/auto.py:22: TqdmWarning: IProgress not found. Please update jupyter and ipywidgets. See https://ipywidgets.readthedocs.io/en/stable/user_install.html\n",
      "  from .autonotebook import tqdm as notebook_tqdm\n",
      "/home/sadat/miniconda3/envs/dataloader/lib/python3.8/site-packages/mmcv/__init__.py:20: UserWarning: On January 1, 2023, MMCV will release v2.0.0, in which it will remove components related to the training process and add a data transformation module. In addition, it will rename the package names mmcv to mmcv-lite and mmcv-full to mmcv. See https://github.com/open-mmlab/mmcv/blob/master/docs/en/compatibility.md for more details.\n",
      "  warnings.warn(\n"
     ]
    }
   ],
   "source": [
    "import os\n",
    "import torch\n",
    "import torch.nn as nn\n",
    "import wandb\n",
    "import numpy as np\n",
    "\n",
    "from torchvision import transforms\n",
    "from custom_dataset import VideoFrameDataset, ImglistToTensor\n",
    "from csn import csn50\n",
    "from cls_head import ClassifierHead\n",
    "from cls_autoencoder import EncoderDecoder\n",
    "from warmup_scheduler_pytorch import WarmUpScheduler"
   ]
  },
  {
   "cell_type": "markdown",
   "id": "d835be69",
   "metadata": {},
   "source": [
    "## Device Agnostic Code"
   ]
  },
  {
   "cell_type": "code",
   "execution_count": 3,
   "id": "49288d2d",
   "metadata": {},
   "outputs": [],
   "source": [
    "try:\n",
    "    device = 'mps' if torch.backends.mps.is_available() else 'cpu'\n",
    "except:\n",
    "    device = 'cuda' if torch.cuda.is_available() else 'cpu'\n"
   ]
  },
  {
   "cell_type": "markdown",
   "id": "e006f6cb",
   "metadata": {},
   "source": [
    "## Data Configs"
   ]
  },
  {
   "cell_type": "code",
   "execution_count": 4,
   "id": "f12a8834",
   "metadata": {},
   "outputs": [],
   "source": [
    "data_root = os.path.join(os.getcwd(), 'data/wlasl/rawframes') \n",
    "ann_file_train = os.path.join(os.getcwd(), 'data/wlasl/train_annotations.txt') \n",
    "ann_file_test = os.path.join(os.getcwd(), 'data/wlasl/test_annotations.txt')\n",
    "work_dir = 'work_dirs/wlasl/'\n",
    "batch_size = 8"
   ]
  },
  {
   "cell_type": "markdown",
   "id": "2fdca10e",
   "metadata": {},
   "source": [
    "## Dataset"
   ]
  },
  {
   "cell_type": "code",
   "execution_count": 5,
   "id": "178ade4d",
   "metadata": {},
   "outputs": [],
   "source": [
    "# Setting up data augments\n",
    "train_pipeline = transforms.Compose([\n",
    "        ImglistToTensor(),\n",
    "        transforms.Resize((256, 256)),\n",
    "        transforms.RandomResizedCrop((256, 256), scale=(0.6, 1.0)),\n",
    "        transforms.Resize((224, 224)),\n",
    "        transforms.RandomHorizontalFlip(),\n",
    "        transforms.Normalize(mean=[123.675, 116.28, 103.53], std=[58.395, 57.12, 57.375]),\n",
    "    ])\n",
    "\n",
    "test_pipeline = transforms.Compose([\n",
    "        ImglistToTensor(), # list of PIL images to (FRAMES x CHANNELS x HEIGHT x WIDTH) tensor\n",
    "        transforms.Resize((256, 256)),  # image batch, resize smaller edge to 256\n",
    "        transforms.CenterCrop((224, 224)),  # image batch, center crop to square 224x224\n",
    "        transforms.Normalize(mean=[123.675, 116.28, 103.53], std=[58.395, 57.12, 57.375]),\n",
    "    ])\n",
    "\n",
    "# Setting up datasets\n",
    "train_dataset = VideoFrameDataset(\n",
    "    root_path=data_root,\n",
    "    annotationfile_path=ann_file_train,\n",
    "    clip_len=32,\n",
    "    frame_interval=2,\n",
    "    num_clips=1,\n",
    "    imagefile_template='img_{:05d}.jpg',\n",
    "    transform=train_pipeline,\n",
    "    test_mode=False\n",
    ")\n",
    "\n",
    "test_dataset = VideoFrameDataset(\n",
    "    root_path=data_root,\n",
    "    annotationfile_path=ann_file_test,\n",
    "    clip_len=32,\n",
    "    frame_interval=2,\n",
    "    num_clips=1,\n",
    "    imagefile_template='img_{:05d}.jpg',\n",
    "    transform=test_pipeline,\n",
    "    test_mode=True\n",
    ")\n",
    "\n",
    "# Setting up dataloaders\n",
    "train_loader = torch.utils.data.DataLoader(dataset=train_dataset,\n",
    "                                    batch_size=batch_size,\n",
    "                                    shuffle=False,\n",
    "                                    num_workers=4,\n",
    "                                    pin_memory=True)\n",
    "\n",
    "test_loader = torch.utils.data.DataLoader(dataset=test_dataset,\n",
    "                                    batch_size=1,\n",
    "                                    shuffle=True,\n",
    "                                    num_workers=4,\n",
    "                                    pin_memory=True)"
   ]
  },
  {
   "cell_type": "code",
   "execution_count": 6,
   "id": "50e66751",
   "metadata": {},
   "outputs": [],
   "source": [
    "for video, target in train_loader:\n",
    "    break\n",
    "    "
   ]
  },
  {
   "cell_type": "code",
   "execution_count": 7,
   "id": "fe512ce4",
   "metadata": {},
   "outputs": [
    {
     "data": {
      "text/plain": [
       "[tensor([69, 32, 47, 73, 92, 96, 37, 61]), tensor([3, 3, 3, 3, 3, 3, 1, 7])]"
      ]
     },
     "execution_count": 7,
     "metadata": {},
     "output_type": "execute_result"
    }
   ],
   "source": [
    "target"
   ]
  },
  {
   "cell_type": "markdown",
   "id": "b19ae5a8",
   "metadata": {},
   "source": [
    "## Model"
   ]
  },
  {
   "cell_type": "code",
   "execution_count": 8,
   "id": "87163e72",
   "metadata": {},
   "outputs": [],
   "source": [
    "# Create a CSN model\n",
    "encoder = csn50(num_classes=400)\n",
    "\n",
    "decoder = ClassifierHead(num_classes=400,\n",
    "                 in_features=2048,\n",
    "                 dropout_ratio=0.5,\n",
    "                 init_std=0.01)\n",
    "\n",
    "decoder.init_weights()\n",
    "\n",
    "model = EncoderDecoder(encoder, decoder)"
   ]
  },
  {
   "cell_type": "markdown",
   "id": "9c6c68db",
   "metadata": {},
   "source": [
    "## Optimizer and Scheduler"
   ]
  },
  {
   "cell_type": "code",
   "execution_count": 9,
   "id": "06ef1bed",
   "metadata": {},
   "outputs": [],
   "source": [
    "# Specify Loss\n",
    "loss_fn = nn.CrossEntropyLoss()\n",
    "\n",
    "# Specify optimizer\n",
    "optimizer = torch.optim.SGD(\n",
    "    model.parameters(), lr=0.0000125, momentum=0.9, weight_decay=0.00001)\n",
    "\n",
    "# Specify learning rate scheduler\n",
    "lr_scheduler = torch.optim.lr_scheduler.StepLR(\n",
    "    optimizer, step_size=6, gamma=0.1)\n",
    "\n",
    "scheduler = WarmUpScheduler(optimizer, lr_scheduler,\n",
    "                            len_loader=len(train_loader),\n",
    "                            warmup_steps=1,\n",
    "                            warmup_start_lr=1e-6,\n",
    "                            warmup_mode='linear')\n",
    "# Setup wandb\n",
    "# wandb.watch(model, log_freq=10)"
   ]
  },
  {
   "cell_type": "markdown",
   "id": "414c572e",
   "metadata": {},
   "source": [
    "## Helper Functions"
   ]
  },
  {
   "cell_type": "code",
   "execution_count": 11,
   "id": "db962978",
   "metadata": {},
   "outputs": [],
   "source": [
    "def train_one_epoch(epoch_index, interval=5):\n",
    "    \"\"\"Run one epoch for training.\n",
    "    Args:\n",
    "        epoch_index (int): Current epoch.\n",
    "        interval (int): Frequency at which to print logs.\n",
    "    Returns:\n",
    "        last_loss (float): Loss value for the last batch.\n",
    "        learning_rate (float): Learning rate for the last batch.\n",
    "    \"\"\"\n",
    "    running_loss = 0.\n",
    "    last_loss = 0.\n",
    "\n",
    "    # Here, we use enumerate(training_loader) instead of\n",
    "    # iter(training_loader) so that we can track the batch\n",
    "    # index and do some intra-epoch reporting\n",
    "    for i, (images, targets) in enumerate(train_loader):\n",
    "        # Every data instance is an input + label pair\n",
    "        images, targets = images.to(device).permute(\n",
    "            0, 2, 1, 3, 4), targets[1].to(device)\n",
    "\n",
    "        # Zero your gradients for every batch!\n",
    "        optimizer.zero_grad()\n",
    "\n",
    "        # Make predictions for this batch\n",
    "        outputs = model(images)\n",
    "\n",
    "        # Get losses\n",
    "        loss_results = decoder.loss(outputs, targets)\n",
    "        # Compute the loss and its gradients\n",
    "        loss = loss_results['loss_cls']\n",
    "        loss.backward()\n",
    "\n",
    "        # Gradient Clipping\n",
    "        torch.nn.utils.clip_grad_norm_(\n",
    "            model.parameters(), max_norm=40, norm_type=2)\n",
    "\n",
    "        # Adjust learning weights\n",
    "        optimizer.step()\n",
    "\n",
    "        # Gather data and report\n",
    "        running_loss += loss.item()\n",
    "        if i % interval == interval-1:\n",
    "            last_loss = running_loss / interval  # loss per batch\n",
    "            top1_acc = loss_results['top1_acc']\n",
    "            top5_acc = loss_results['top5_acc']\n",
    "            print(\n",
    "                f'Epoch [{epoch_index}][{i+1}/{len(train_loader)}], lr: {scheduler.get_last_lr()[0]:.5e}, loss: {last_loss:.5}, top1_acc: {top1_acc}, top5_acc: {top5_acc}')\n",
    "            running_loss = 0.\n",
    "\n",
    "    return last_loss, scheduler.get_last_lr()[0]\n",
    "\n",
    "\n",
    "def validate():\n",
    "    \"\"\"Run one epoch for validation.\n",
    "    Returns:\n",
    "        avg_vloss (float): Validation loss value for the last batch.\n",
    "        top1_acc (float): Top-1 accuracy in decimal.\n",
    "        top5_acc (float): Top-5 accuracy in decimal.\n",
    "    \"\"\"\n",
    "    running_vloss = 0.\n",
    "    print('Evaluating top_k_accuracy...')\n",
    "\n",
    "    with torch.inference_mode():\n",
    "        for i, (vimages, vtargets) in enumerate(test_loader):\n",
    "            vimages, vtargets = vimages.to(device), vtargets.to(device)\n",
    "\n",
    "            voutputs = model(vimages.permute(0, 2, 1, 3, 4))\n",
    "\n",
    "            loss_results = decoder.loss(voutputs, vtargets)\n",
    "            vloss = loss_results['loss_cls']\n",
    "            running_vloss += vloss\n",
    "\n",
    "\n",
    "    avg_vloss = running_vloss / (i + 1)\n",
    "    top1_acc = loss_results['top1_acc']\n",
    "    top5_acc = loss_results['top5_acc']\n",
    "\n",
    "    return (avg_vloss, top1_acc, top5_acc)"
   ]
  },
  {
   "cell_type": "markdown",
   "id": "47f9b1a1",
   "metadata": {},
   "source": [
    "## Train Loop"
   ]
  },
  {
   "cell_type": "code",
   "execution_count": 12,
   "id": "aa6f317d",
   "metadata": {},
   "outputs": [
    {
     "ename": "RuntimeError",
     "evalue": "mat1 and mat2 shapes cannot be multiplied (2048x1 and 2048x400)",
     "output_type": "error",
     "traceback": [
      "\u001b[0;31m---------------------------------------------------------------------------\u001b[0m",
      "\u001b[0;31mRuntimeError\u001b[0m                              Traceback (most recent call last)",
      "Cell \u001b[0;32mIn[12], line 14\u001b[0m\n\u001b[1;32m     12\u001b[0m \u001b[38;5;66;03m# Turn on gradient tracking and do a forward pass\u001b[39;00m\n\u001b[1;32m     13\u001b[0m model\u001b[38;5;241m.\u001b[39mtrain(\u001b[38;5;28;01mTrue\u001b[39;00m)\n\u001b[0;32m---> 14\u001b[0m avg_loss, learning_rate \u001b[38;5;241m=\u001b[39m \u001b[43mtrain_one_epoch\u001b[49m\u001b[43m(\u001b[49m\u001b[43mepoch\u001b[49m\u001b[38;5;241;43m+\u001b[39;49m\u001b[38;5;241;43m1\u001b[39;49m\u001b[43m)\u001b[49m\n\u001b[1;32m     16\u001b[0m \u001b[38;5;66;03m# Turn off  gradients for reporting\u001b[39;00m\n\u001b[1;32m     17\u001b[0m model\u001b[38;5;241m.\u001b[39mtrain(\u001b[38;5;28;01mFalse\u001b[39;00m)\n",
      "Cell \u001b[0;32mIn[11], line 25\u001b[0m, in \u001b[0;36mtrain_one_epoch\u001b[0;34m(epoch_index, interval)\u001b[0m\n\u001b[1;32m     22\u001b[0m optimizer\u001b[38;5;241m.\u001b[39mzero_grad()\n\u001b[1;32m     24\u001b[0m \u001b[38;5;66;03m# Make predictions for this batch\u001b[39;00m\n\u001b[0;32m---> 25\u001b[0m outputs \u001b[38;5;241m=\u001b[39m \u001b[43mmodel\u001b[49m\u001b[43m(\u001b[49m\u001b[43mimages\u001b[49m\u001b[43m)\u001b[49m\n\u001b[1;32m     27\u001b[0m \u001b[38;5;66;03m# Get losses\u001b[39;00m\n\u001b[1;32m     28\u001b[0m loss_results \u001b[38;5;241m=\u001b[39m decoder\u001b[38;5;241m.\u001b[39mloss(outputs, targets)\n",
      "File \u001b[0;32m~/miniconda3/envs/dataloader/lib/python3.8/site-packages/torch/nn/modules/module.py:1110\u001b[0m, in \u001b[0;36mModule._call_impl\u001b[0;34m(self, *input, **kwargs)\u001b[0m\n\u001b[1;32m   1106\u001b[0m \u001b[38;5;66;03m# If we don't have any hooks, we want to skip the rest of the logic in\u001b[39;00m\n\u001b[1;32m   1107\u001b[0m \u001b[38;5;66;03m# this function, and just call forward.\u001b[39;00m\n\u001b[1;32m   1108\u001b[0m \u001b[38;5;28;01mif\u001b[39;00m \u001b[38;5;129;01mnot\u001b[39;00m (\u001b[38;5;28mself\u001b[39m\u001b[38;5;241m.\u001b[39m_backward_hooks \u001b[38;5;129;01mor\u001b[39;00m \u001b[38;5;28mself\u001b[39m\u001b[38;5;241m.\u001b[39m_forward_hooks \u001b[38;5;129;01mor\u001b[39;00m \u001b[38;5;28mself\u001b[39m\u001b[38;5;241m.\u001b[39m_forward_pre_hooks \u001b[38;5;129;01mor\u001b[39;00m _global_backward_hooks\n\u001b[1;32m   1109\u001b[0m         \u001b[38;5;129;01mor\u001b[39;00m _global_forward_hooks \u001b[38;5;129;01mor\u001b[39;00m _global_forward_pre_hooks):\n\u001b[0;32m-> 1110\u001b[0m     \u001b[38;5;28;01mreturn\u001b[39;00m \u001b[43mforward_call\u001b[49m\u001b[43m(\u001b[49m\u001b[38;5;241;43m*\u001b[39;49m\u001b[38;5;28;43minput\u001b[39;49m\u001b[43m,\u001b[49m\u001b[43m \u001b[49m\u001b[38;5;241;43m*\u001b[39;49m\u001b[38;5;241;43m*\u001b[39;49m\u001b[43mkwargs\u001b[49m\u001b[43m)\u001b[49m\n\u001b[1;32m   1111\u001b[0m \u001b[38;5;66;03m# Do not call functions when jit is used\u001b[39;00m\n\u001b[1;32m   1112\u001b[0m full_backward_hooks, non_full_backward_hooks \u001b[38;5;241m=\u001b[39m [], []\n",
      "File \u001b[0;32m~/Desktop/csn-sign-autoencoder/csnautoencoder/cls_autoencoder.py:12\u001b[0m, in \u001b[0;36mEncoderDecoder.forward\u001b[0;34m(self, x)\u001b[0m\n\u001b[1;32m     10\u001b[0m \u001b[38;5;28;01mdef\u001b[39;00m \u001b[38;5;21mforward\u001b[39m(\u001b[38;5;28mself\u001b[39m, x):\n\u001b[1;32m     11\u001b[0m     code \u001b[38;5;241m=\u001b[39m \u001b[38;5;28mself\u001b[39m\u001b[38;5;241m.\u001b[39mencoder(x)[\u001b[38;5;241m4\u001b[39m]\n\u001b[0;32m---> 12\u001b[0m     \u001b[38;5;28;01mreturn\u001b[39;00m \u001b[38;5;28;43mself\u001b[39;49m\u001b[38;5;241;43m.\u001b[39;49m\u001b[43mdecoder\u001b[49m\u001b[43m(\u001b[49m\u001b[43mcode\u001b[49m\u001b[43m)\u001b[49m\n",
      "File \u001b[0;32m~/miniconda3/envs/dataloader/lib/python3.8/site-packages/torch/nn/modules/module.py:1110\u001b[0m, in \u001b[0;36mModule._call_impl\u001b[0;34m(self, *input, **kwargs)\u001b[0m\n\u001b[1;32m   1106\u001b[0m \u001b[38;5;66;03m# If we don't have any hooks, we want to skip the rest of the logic in\u001b[39;00m\n\u001b[1;32m   1107\u001b[0m \u001b[38;5;66;03m# this function, and just call forward.\u001b[39;00m\n\u001b[1;32m   1108\u001b[0m \u001b[38;5;28;01mif\u001b[39;00m \u001b[38;5;129;01mnot\u001b[39;00m (\u001b[38;5;28mself\u001b[39m\u001b[38;5;241m.\u001b[39m_backward_hooks \u001b[38;5;129;01mor\u001b[39;00m \u001b[38;5;28mself\u001b[39m\u001b[38;5;241m.\u001b[39m_forward_hooks \u001b[38;5;129;01mor\u001b[39;00m \u001b[38;5;28mself\u001b[39m\u001b[38;5;241m.\u001b[39m_forward_pre_hooks \u001b[38;5;129;01mor\u001b[39;00m _global_backward_hooks\n\u001b[1;32m   1109\u001b[0m         \u001b[38;5;129;01mor\u001b[39;00m _global_forward_hooks \u001b[38;5;129;01mor\u001b[39;00m _global_forward_pre_hooks):\n\u001b[0;32m-> 1110\u001b[0m     \u001b[38;5;28;01mreturn\u001b[39;00m \u001b[43mforward_call\u001b[49m\u001b[43m(\u001b[49m\u001b[38;5;241;43m*\u001b[39;49m\u001b[38;5;28;43minput\u001b[39;49m\u001b[43m,\u001b[49m\u001b[43m \u001b[49m\u001b[38;5;241;43m*\u001b[39;49m\u001b[38;5;241;43m*\u001b[39;49m\u001b[43mkwargs\u001b[49m\u001b[43m)\u001b[49m\n\u001b[1;32m   1111\u001b[0m \u001b[38;5;66;03m# Do not call functions when jit is used\u001b[39;00m\n\u001b[1;32m   1112\u001b[0m full_backward_hooks, non_full_backward_hooks \u001b[38;5;241m=\u001b[39m [], []\n",
      "File \u001b[0;32m~/Desktop/csn-sign-autoencoder/csnautoencoder/cls_head.py:39\u001b[0m, in \u001b[0;36mClassifierHead.forward\u001b[0;34m(self, x)\u001b[0m\n\u001b[1;32m     37\u001b[0m x \u001b[38;5;241m=\u001b[39m x\u001b[38;5;241m.\u001b[39mview(x\u001b[38;5;241m.\u001b[39mshape[\u001b[38;5;241m0\u001b[39m], \u001b[38;5;241m-\u001b[39m\u001b[38;5;241m1\u001b[39m)\n\u001b[1;32m     38\u001b[0m \u001b[38;5;66;03m# [N, in_channels]\u001b[39;00m\n\u001b[0;32m---> 39\u001b[0m cls_score \u001b[38;5;241m=\u001b[39m \u001b[38;5;28;43mself\u001b[39;49m\u001b[38;5;241;43m.\u001b[39;49m\u001b[43mfc_cls\u001b[49m\u001b[43m(\u001b[49m\u001b[43mx\u001b[49m\u001b[43m)\u001b[49m\n\u001b[1;32m     40\u001b[0m \u001b[38;5;66;03m# [N, num_classes]\u001b[39;00m\n\u001b[1;32m     41\u001b[0m \u001b[38;5;28;01mreturn\u001b[39;00m cls_score\n",
      "File \u001b[0;32m~/miniconda3/envs/dataloader/lib/python3.8/site-packages/torch/nn/modules/module.py:1110\u001b[0m, in \u001b[0;36mModule._call_impl\u001b[0;34m(self, *input, **kwargs)\u001b[0m\n\u001b[1;32m   1106\u001b[0m \u001b[38;5;66;03m# If we don't have any hooks, we want to skip the rest of the logic in\u001b[39;00m\n\u001b[1;32m   1107\u001b[0m \u001b[38;5;66;03m# this function, and just call forward.\u001b[39;00m\n\u001b[1;32m   1108\u001b[0m \u001b[38;5;28;01mif\u001b[39;00m \u001b[38;5;129;01mnot\u001b[39;00m (\u001b[38;5;28mself\u001b[39m\u001b[38;5;241m.\u001b[39m_backward_hooks \u001b[38;5;129;01mor\u001b[39;00m \u001b[38;5;28mself\u001b[39m\u001b[38;5;241m.\u001b[39m_forward_hooks \u001b[38;5;129;01mor\u001b[39;00m \u001b[38;5;28mself\u001b[39m\u001b[38;5;241m.\u001b[39m_forward_pre_hooks \u001b[38;5;129;01mor\u001b[39;00m _global_backward_hooks\n\u001b[1;32m   1109\u001b[0m         \u001b[38;5;129;01mor\u001b[39;00m _global_forward_hooks \u001b[38;5;129;01mor\u001b[39;00m _global_forward_pre_hooks):\n\u001b[0;32m-> 1110\u001b[0m     \u001b[38;5;28;01mreturn\u001b[39;00m \u001b[43mforward_call\u001b[49m\u001b[43m(\u001b[49m\u001b[38;5;241;43m*\u001b[39;49m\u001b[38;5;28;43minput\u001b[39;49m\u001b[43m,\u001b[49m\u001b[43m \u001b[49m\u001b[38;5;241;43m*\u001b[39;49m\u001b[38;5;241;43m*\u001b[39;49m\u001b[43mkwargs\u001b[49m\u001b[43m)\u001b[49m\n\u001b[1;32m   1111\u001b[0m \u001b[38;5;66;03m# Do not call functions when jit is used\u001b[39;00m\n\u001b[1;32m   1112\u001b[0m full_backward_hooks, non_full_backward_hooks \u001b[38;5;241m=\u001b[39m [], []\n",
      "File \u001b[0;32m~/miniconda3/envs/dataloader/lib/python3.8/site-packages/torch/nn/modules/linear.py:103\u001b[0m, in \u001b[0;36mLinear.forward\u001b[0;34m(self, input)\u001b[0m\n\u001b[1;32m    102\u001b[0m \u001b[38;5;28;01mdef\u001b[39;00m \u001b[38;5;21mforward\u001b[39m(\u001b[38;5;28mself\u001b[39m, \u001b[38;5;28minput\u001b[39m: Tensor) \u001b[38;5;241m-\u001b[39m\u001b[38;5;241m>\u001b[39m Tensor:\n\u001b[0;32m--> 103\u001b[0m     \u001b[38;5;28;01mreturn\u001b[39;00m \u001b[43mF\u001b[49m\u001b[38;5;241;43m.\u001b[39;49m\u001b[43mlinear\u001b[49m\u001b[43m(\u001b[49m\u001b[38;5;28;43minput\u001b[39;49m\u001b[43m,\u001b[49m\u001b[43m \u001b[49m\u001b[38;5;28;43mself\u001b[39;49m\u001b[38;5;241;43m.\u001b[39;49m\u001b[43mweight\u001b[49m\u001b[43m,\u001b[49m\u001b[43m \u001b[49m\u001b[38;5;28;43mself\u001b[39;49m\u001b[38;5;241;43m.\u001b[39;49m\u001b[43mbias\u001b[49m\u001b[43m)\u001b[49m\n",
      "\u001b[0;31mRuntimeError\u001b[0m: mat1 and mat2 shapes cannot be multiplied (2048x1 and 2048x400)"
     ]
    }
   ],
   "source": [
    "# Train Loop\n",
    "epochs = 58\n",
    "best_vloss = 1_000_000.\n",
    "\n",
    "# Transfer model to device\n",
    "model.to(device)\n",
    "\n",
    "for epoch in range(epochs):\n",
    "    # Adjust learning rate\n",
    "    scheduler.step()\n",
    "\n",
    "    # Turn on gradient tracking and do a forward pass\n",
    "    model.train(True)\n",
    "    avg_loss, learning_rate = train_one_epoch(epoch+1)\n",
    "\n",
    "    # Turn off  gradients for reporting\n",
    "    model.train(False)\n",
    "\n",
    "    avg_vloss, top1_acc, top5_acc = validate()\n",
    "\n",
    "    print(\n",
    "        f'top1_acc: {top1_acc:.4}, top5_acc: {top5_acc:.4}, train_loss: {avg_loss:.5}, val_loss: {avg_vloss:.5}')\n",
    "\n",
    "    # Track best performance, and save the model's state\n",
    "    if avg_vloss < best_vloss:\n",
    "        best_vloss = avg_vloss\n",
    "        model_path = work_dir + f'epoch_{epoch+1}.pth'\n",
    "        print(f'Saving checkpoint at {epoch+1} epochs...')\n",
    "        torch.save(model.state_dict(), model_path)\n",
    "\n",
    "    # Track wandb\n",
    "    wandb.log({'train/loss': avg_loss,\n",
    "               'train/learning_rate': learning_rate,\n",
    "               'val/loss': avg_vloss,\n",
    "               'val/top1_accuracy': top1_acc,\n",
    "               'val/top5_accuracy': top5_acc})"
   ]
  }
 ],
 "metadata": {
  "kernelspec": {
   "display_name": "dataloader",
   "language": "python",
   "name": "dataloader"
  },
  "language_info": {
   "codemirror_mode": {
    "name": "ipython",
    "version": 3
   },
   "file_extension": ".py",
   "mimetype": "text/x-python",
   "name": "python",
   "nbconvert_exporter": "python",
   "pygments_lexer": "ipython3",
   "version": "3.8.16"
  }
 },
 "nbformat": 4,
 "nbformat_minor": 5
}
