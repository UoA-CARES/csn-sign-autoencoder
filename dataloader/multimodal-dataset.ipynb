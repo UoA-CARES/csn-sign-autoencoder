{
 "cells": [
  {
   "cell_type": "code",
   "execution_count": 15,
   "id": "77fd74ee",
   "metadata": {},
   "outputs": [],
   "source": [
    "import os\n",
    "import torch\n",
    "import copy\n",
    "import torch.nn as nn\n",
    "import numpy as np\n",
    "\n",
    "from mmaction.datasets import build_dataset"
   ]
  },
  {
   "cell_type": "code",
   "execution_count": 3,
   "id": "51bf90f8",
   "metadata": {},
   "outputs": [],
   "source": [
    "os.chdir('../')"
   ]
  },
  {
   "cell_type": "code",
   "execution_count": 9,
   "id": "a425ca84",
   "metadata": {},
   "outputs": [],
   "source": [
    "train_cfg=dict(\n",
    "    type='RawframeDataset',\n",
    "    ann_file='data/wlasl/train_annotations.txt',\n",
    "    data_prefix='data/wlasl/rawframes',\n",
    "    pipeline=[\n",
    "        dict(\n",
    "            type='SampleFrames',\n",
    "            clip_len=32,\n",
    "            frame_interval=2,\n",
    "            num_clips=1),\n",
    "        dict(type='RawFrameDecode'),\n",
    "        dict(type='Resize', scale=(-1, 256)),\n",
    "        dict(type='RandomResizedCrop', area_range=(0.4,1.0)),\n",
    "        dict(type='Resize', scale=(224, 224), keep_ratio=False),\n",
    "        dict(type='Flip', flip_ratio=0.5),\n",
    "        dict(\n",
    "            type='Normalize',\n",
    "            mean=[123.675, 116.28, 103.53],\n",
    "            std=[58.395, 57.12, 57.375],\n",
    "            to_bgr=False),\n",
    "        dict(type='FormatShape', input_format='NCTHW'),\n",
    "        dict(type='Collect', keys=['imgs', 'label'], meta_keys=[]),\n",
    "        dict(type='ToTensor', keys=['imgs', 'label'])\n",
    "    ])"
   ]
  },
  {
   "cell_type": "code",
   "execution_count": 25,
   "id": "cf725731",
   "metadata": {},
   "outputs": [],
   "source": [
    "dataset = build_dataset(train_cfg)"
   ]
  },
  {
   "cell_type": "code",
   "execution_count": 37,
   "id": "eb3244e2",
   "metadata": {},
   "outputs": [
    {
     "data": {
      "text/plain": [
       "mmaction.datasets.pipelines.compose.Compose"
      ]
     },
     "execution_count": 37,
     "metadata": {},
     "output_type": "execute_result"
    }
   ],
   "source": [
    "type(dataset.pipeline)"
   ]
  },
  {
   "cell_type": "code",
   "execution_count": 23,
   "id": "048a4c1d",
   "metadata": {},
   "outputs": [
    {
     "data": {
      "text/plain": [
       "tensor([77])"
      ]
     },
     "execution_count": 23,
     "metadata": {},
     "output_type": "execute_result"
    }
   ],
   "source": [
    "y['label']"
   ]
  },
  {
   "cell_type": "code",
   "execution_count": 11,
   "id": "09a89bef",
   "metadata": {},
   "outputs": [],
   "source": [
    "x = train_dataset.load_annotations()"
   ]
  },
  {
   "cell_type": "code",
   "execution_count": 14,
   "id": "5ad00c6b",
   "metadata": {},
   "outputs": [
    {
     "data": {
      "text/plain": [
       "{'frame_dir': '/home/myuser1/Desktop/sign-language-summer-research/data/wlasl/rawframes/train/05237',\n",
       " 'total_frames': 55,\n",
       " 'label': 77}"
      ]
     },
     "execution_count": 14,
     "metadata": {},
     "output_type": "execute_result"
    }
   ],
   "source": [
    "x[0]"
   ]
  },
  {
   "cell_type": "code",
   "execution_count": null,
   "id": "9bb81581",
   "metadata": {},
   "outputs": [],
   "source": [
    "copy.deepcopy()"
   ]
  }
 ],
 "metadata": {
  "kernelspec": {
   "display_name": "Python (wlasl)",
   "language": "python",
   "name": "wlasl"
  },
  "language_info": {
   "codemirror_mode": {
    "name": "ipython",
    "version": 3
   },
   "file_extension": ".py",
   "mimetype": "text/x-python",
   "name": "python",
   "nbconvert_exporter": "python",
   "pygments_lexer": "ipython3",
   "version": "3.8.15"
  }
 },
 "nbformat": 4,
 "nbformat_minor": 5
}
