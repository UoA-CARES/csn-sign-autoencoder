{
 "cells": [
  {
   "cell_type": "markdown",
   "id": "cae268c2",
   "metadata": {},
   "source": [
    "## Imports"
   ]
  },
  {
   "cell_type": "code",
   "execution_count": 1,
   "id": "f6f3188a",
   "metadata": {},
   "outputs": [
    {
     "name": "stderr",
     "output_type": "stream",
     "text": [
      "/home/sadat/miniconda3/envs/mmsign/lib/python3.8/site-packages/mmcv/__init__.py:20: UserWarning: On January 1, 2023, MMCV will release v2.0.0, in which it will remove components related to the training process and add a data transformation module. In addition, it will rename the package names mmcv to mmcv-lite and mmcv-full to mmcv. See https://github.com/open-mmlab/mmcv/blob/master/docs/en/compatibility.md for more details.\n",
      "  warnings.warn(\n",
      "\u001b[34m\u001b[1mwandb\u001b[0m: Currently logged in as: \u001b[33msttaseen\u001b[0m (\u001b[33mcares\u001b[0m). Use \u001b[1m`wandb login --relogin`\u001b[0m to force relogin\n"
     ]
    },
    {
     "data": {
      "text/html": [
       "wandb version 0.13.9 is available!  To upgrade, please run:\n",
       " $ pip install wandb --upgrade"
      ],
      "text/plain": [
       "<IPython.core.display.HTML object>"
      ]
     },
     "metadata": {},
     "output_type": "display_data"
    },
    {
     "data": {
      "text/html": [
       "Tracking run with wandb version 0.13.5"
      ],
      "text/plain": [
       "<IPython.core.display.HTML object>"
      ]
     },
     "metadata": {},
     "output_type": "display_data"
    },
    {
     "data": {
      "text/html": [
       "Run data is saved locally in <code>/home/sadat/Desktop/csn-sign-autoencoder/wandb/run-20230130_120830-2qch4qdg</code>"
      ],
      "text/plain": [
       "<IPython.core.display.HTML object>"
      ]
     },
     "metadata": {},
     "output_type": "display_data"
    },
    {
     "data": {
      "text/html": [
       "Syncing run <strong><a href=\"https://wandb.ai/cares/autoencoder-experiments/runs/2qch4qdg\" target=\"_blank\">wlasl</a></strong> to <a href=\"https://wandb.ai/cares/autoencoder-experiments\" target=\"_blank\">Weights & Biases</a> (<a href=\"https://wandb.me/run\" target=\"_blank\">docs</a>)<br/>"
      ],
      "text/plain": [
       "<IPython.core.display.HTML object>"
      ]
     },
     "metadata": {},
     "output_type": "display_data"
    },
    {
     "data": {
      "text/html": [
       "<button onClick=\"this.nextSibling.style.display='block';this.style.display='none';\">Display W&B run</button><iframe src=\"https://wandb.ai/cares/autoencoder-experiments/runs/2qch4qdg?jupyter=true\" style=\"border:none;width:100%;height:420px;display:none;\"></iframe>"
      ],
      "text/plain": [
       "<wandb.sdk.wandb_run.Run at 0x7f5734976280>"
      ]
     },
     "execution_count": 1,
     "metadata": {},
     "output_type": "execute_result"
    }
   ],
   "source": [
    "import os\n",
    "import torch\n",
    "import torch.nn as nn\n",
    "import matplotlib.pyplot as plt\n",
    "import wandb\n",
    "import numpy as np\n",
    "from torchvision import transforms\n",
    "from video_dataset import VideoFrameDataset, ImglistToTensor\n",
    "from mmcv_resnet_slow import ResNet3dSlowOnly\n",
    "from mmcv_tpn import TPN\n",
    "from tpn_head import TPNHead\n",
    "\n",
    "wandb.init(entity=\"cares\", project=\"autoencoder-experiments\", group=\"tpn-cls\", name=\"wlasl\")"
   ]
  },
  {
   "cell_type": "markdown",
   "id": "b7e1cad2",
   "metadata": {},
   "source": [
    "## Device Agnostic Code"
   ]
  },
  {
   "cell_type": "code",
   "execution_count": 2,
   "id": "1125627c",
   "metadata": {},
   "outputs": [],
   "source": [
    "try:\n",
    "    device = 'mps' if torch.backends.mps.is_available() else 'cpu'\n",
    "except:\n",
    "    device = 'cuda' if torch.cuda.is_available() else 'cpu'"
   ]
  },
  {
   "cell_type": "markdown",
   "id": "a18e41de",
   "metadata": {},
   "source": [
    "## Data Setup"
   ]
  },
  {
   "cell_type": "code",
   "execution_count": 3,
   "id": "84d97582",
   "metadata": {},
   "outputs": [],
   "source": [
    "data_root = os.path.join(os.getcwd(), 'data/wlasl/rawframes') \n",
    "ann_file_train = os.path.join(os.getcwd(), 'data/wlasl/train_annotations.txt') \n",
    "ann_file_test = os.path.join(os.getcwd(), 'data/wlasl/test_annotations.txt')\n",
    "work_dir = 'work_dirs/wlasl/tpncls/'\n",
    "batch_size = 16\n",
    "\n",
    "\n",
    "\n",
    "os.makedirs(work_dir, exist_ok=True)\n",
    "\n",
    "\n",
    "# Setting up data augments\n",
    "train_pipeline = transforms.Compose([\n",
    "        ImglistToTensor(), # list of PIL images to (FRAMES x CHANNELS x HEIGHT x WIDTH) tensor\n",
    "        transforms.Resize((256, 256)), # image batch, resize smaller edge to 256\n",
    "        transforms.RandomResizedCrop((248, 248), scale=(0.5, 1.0)), # image batch, center crop to square 224x224\n",
    "        transforms.Resize((224, 224)),\n",
    "        transforms.RandomHorizontalFlip(),\n",
    "        transforms.Normalize(mean=[123.675, 116.28, 103.53], std=[58.395, 57.12, 57.375]),\n",
    "    ])\n",
    "\n",
    "test_pipeline = transforms.Compose([\n",
    "        ImglistToTensor(), # list of PIL images to (FRAMES x CHANNELS x HEIGHT x WIDTH) tensor\n",
    "        transforms.Resize((256, 256)),  # image batch, resize smaller edge to 256\n",
    "        transforms.CenterCrop((224, 224)),  # image batch, center crop to square 224x224\n",
    "        transforms.Normalize(mean=[123.675, 116.28, 103.53], std=[58.395, 57.12, 57.375]),\n",
    "    ])\n",
    "\n",
    "# Setting up datasets\n",
    "train_dataset = VideoFrameDataset(\n",
    "    root_path=data_root,\n",
    "    annotationfile_path=ann_file_train,\n",
    "    num_segments=12,\n",
    "    frames_per_segment=1,\n",
    "    imagefile_template='img_{:05d}.jpg',\n",
    "    transform=train_pipeline,\n",
    "    test_mode=False\n",
    ")\n",
    "\n",
    "\n",
    "test_dataset = VideoFrameDataset(\n",
    "    root_path=data_root,\n",
    "    annotationfile_path=ann_file_test,\n",
    "    num_segments=12,\n",
    "    frames_per_segment=1,\n",
    "    imagefile_template='img_{:05d}.jpg',\n",
    "    transform=test_pipeline,\n",
    "    test_mode=True\n",
    ")\n",
    "\n",
    "# Setting up dataloaders\n",
    "train_loader = torch.utils.data.DataLoader(dataset=train_dataset,\n",
    "                                    batch_size=batch_size,\n",
    "                                    shuffle=True,\n",
    "                                    num_workers=4,\n",
    "                                    pin_memory=True)\n",
    "\n",
    "test_loader = torch.utils.data.DataLoader(dataset=test_dataset,\n",
    "                                    batch_size=1,\n",
    "                                    shuffle=True,\n",
    "                                    num_workers=4,\n",
    "                                    pin_memory=True)\n",
    "\n",
    "# # Testing\n",
    "# dataiter = iter(test_loader)\n",
    "# get = next(dataiter)\n",
    "# reshape = get[0].permute(0,2,1,3,4)\n",
    "# video = iter(reshape[0][0])\n",
    "# plt.imshow(next(video))"
   ]
  },
  {
   "cell_type": "code",
   "execution_count": 4,
   "id": "a8c0b6e2",
   "metadata": {},
   "outputs": [],
   "source": [
    "# plt.imshow(next(video))"
   ]
  },
  {
   "cell_type": "markdown",
   "id": "3a55768a",
   "metadata": {},
   "source": [
    "## Set up TPN"
   ]
  },
  {
   "cell_type": "code",
   "execution_count": 5,
   "id": "9d897929",
   "metadata": {},
   "outputs": [],
   "source": [
    "class TPNEncoder(nn.Module):\n",
    "    def __init__(self, backbone, neck):\n",
    "        super(TPNEncoder, self).__init__()\n",
    "        self.backbone = backbone\n",
    "        self.neck = neck\n",
    "        self.loss_aux = {}\n",
    "        \n",
    "    def get_loss_aux(self):\n",
    "        return self.loss_aux['loss_aux']\n",
    "        \n",
    "    def forward(self, x, targets=None):\n",
    "        code = self.backbone(x)\n",
    "        code, loss_aux = self.neck(code, targets)\n",
    "        self.loss_aux = loss_aux\n",
    "        return code"
   ]
  },
  {
   "cell_type": "markdown",
   "id": "25b3ce24",
   "metadata": {},
   "source": [
    "## Set up Autoencoder"
   ]
  },
  {
   "cell_type": "code",
   "execution_count": 6,
   "id": "aa15bf71",
   "metadata": {},
   "outputs": [],
   "source": [
    "class EncoderDecoder(nn.Module):\n",
    "    def __init__(self, encoder, decoder):\n",
    "        super(EncoderDecoder, self).__init__()\n",
    "        self.encoder = encoder\n",
    "        self.decoder = decoder\n",
    "        \n",
    "    def forward(self, x, targets):\n",
    "        code = self.encoder(x, targets)\n",
    "        return self.decoder(code)"
   ]
  },
  {
   "cell_type": "markdown",
   "id": "94b594a8",
   "metadata": {},
   "source": [
    "## Initialise model"
   ]
  },
  {
   "cell_type": "code",
   "execution_count": 7,
   "id": "e4d2aa82",
   "metadata": {},
   "outputs": [
    {
     "name": "stderr",
     "output_type": "stream",
     "text": [
      "2023-01-30 12:08:32,750 - mmcv_resnet_slow - INFO - load model from: torchvision://resnet50\n",
      "2023-01-30 12:08:32,815 - mmcv_resnet_slow - INFO - These parameters in the 2d checkpoint are not loaded: {'fc.bias', 'fc.weight'}\n"
     ]
    },
    {
     "name": "stdout",
     "output_type": "stream",
     "text": [
      "load checkpoint from torchvision path: torchvision://resnet50\n"
     ]
    }
   ],
   "source": [
    "# Create a TPN model\n",
    "backbone = ResNet3dSlowOnly(\n",
    "            depth=50,\n",
    "            pretrained='torchvision://resnet50',\n",
    "            lateral=False,\n",
    "            out_indices=(2, 3),\n",
    "            conv1_kernel=(1, 7, 7),\n",
    "            conv1_stride_t=1,\n",
    "            pool1_stride_t=1,\n",
    "            inflate=(0, 0, 1, 1),\n",
    "            norm_eval=False)\n",
    "\n",
    "backbone.init_weights()\n",
    "\n",
    "neck = TPN(\n",
    "        in_channels=(1024, 2048),\n",
    "        out_channels=1024,\n",
    "        spatial_modulation_cfg=dict(\n",
    "            in_channels=(1024, 2048), out_channels=2048),\n",
    "        temporal_modulation_cfg=dict(downsample_scales=(8, 8)),\n",
    "        upsample_cfg=dict(scale_factor=(1, 1, 1)),\n",
    "        downsample_cfg=dict(downsample_scale=(1, 1, 1)),\n",
    "        level_fusion_cfg=dict(\n",
    "            in_channels=(1024, 1024),\n",
    "            mid_channels=(1024, 1024),\n",
    "            out_channels=2048,\n",
    "            downsample_scales=((1, 1, 1), (1, 1, 1))),\n",
    "        aux_head_cfg=dict(out_channels=400, loss_weight=0.5))\n",
    "\n",
    "neck.init_weights()\n",
    "\n",
    "encoder = TPNEncoder(backbone, neck)\n",
    "\n",
    "decoder = TPNHead(\n",
    "        num_classes=400,\n",
    "        in_channels=2048,\n",
    "        spatial_type='avg',\n",
    "        consensus=dict(type='AvgConsensus', dim=1),\n",
    "        dropout_ratio=0.5,\n",
    "        init_std=0.01)\n",
    "\n",
    "decoder.init_weights()\n",
    "\n",
    "model = EncoderDecoder(encoder, decoder)"
   ]
  },
  {
   "cell_type": "markdown",
   "id": "a9152cae",
   "metadata": {},
   "source": [
    "## Set up loss. optimiser and scheduler"
   ]
  },
  {
   "cell_type": "code",
   "execution_count": 8,
   "id": "7b4d4efd",
   "metadata": {},
   "outputs": [
    {
     "data": {
      "text/plain": [
       "[]"
      ]
     },
     "execution_count": 8,
     "metadata": {},
     "output_type": "execute_result"
    }
   ],
   "source": [
    "# Specify loss function\n",
    "loss_fn = nn.CrossEntropyLoss()\n",
    "\n",
    "# Specify loss function\n",
    "optimizer = torch.optim.SGD(model.parameters(), lr=0.01, momentum=0.9, weight_decay=0.0001, nesterov=True)\n",
    "\n",
    "# Specify learning rate scheduler\n",
    "scheduler = torch.optim.lr_scheduler.MultiStepLR(optimizer, milestones=[75,125])\n",
    "\n",
    "# Setup wandb\n",
    "wandb.watch(model, log_freq=10)"
   ]
  },
  {
   "cell_type": "code",
   "execution_count": 9,
   "id": "f3a9d7b3",
   "metadata": {},
   "outputs": [],
   "source": [
    "# checkpoints = torch.load(work_dir+'latest.pth')\n",
    "# model.load_state_dict(checkpoints)"
   ]
  },
  {
   "cell_type": "markdown",
   "id": "6ca2b427",
   "metadata": {},
   "source": [
    "## Testing model output"
   ]
  },
  {
   "cell_type": "code",
   "execution_count": 10,
   "id": "b16fa55d",
   "metadata": {
    "scrolled": true
   },
   "outputs": [],
   "source": [
    "# reshape.shape"
   ]
  },
  {
   "cell_type": "code",
   "execution_count": 11,
   "id": "28b1814c",
   "metadata": {},
   "outputs": [],
   "source": [
    "# code = encoder(reshape)"
   ]
  },
  {
   "cell_type": "code",
   "execution_count": 12,
   "id": "e40e4505",
   "metadata": {},
   "outputs": [],
   "source": [
    "# encoder.loss_aux"
   ]
  },
  {
   "cell_type": "code",
   "execution_count": 13,
   "id": "938bf545",
   "metadata": {},
   "outputs": [],
   "source": [
    "# for i, (images, targets) in enumerate(train_loader):\n",
    "#     break"
   ]
  },
  {
   "cell_type": "code",
   "execution_count": 14,
   "id": "63a0dcf9",
   "metadata": {},
   "outputs": [],
   "source": [
    "# images, targets = images.permute(0,2,1,3,4), targets"
   ]
  },
  {
   "cell_type": "code",
   "execution_count": 15,
   "id": "c22a1843",
   "metadata": {},
   "outputs": [],
   "source": [
    "# code = encoder(images, targets)"
   ]
  },
  {
   "cell_type": "code",
   "execution_count": 16,
   "id": "21eb5f67",
   "metadata": {},
   "outputs": [],
   "source": [
    "# encoder.get_loss_aux()"
   ]
  },
  {
   "cell_type": "code",
   "execution_count": 17,
   "id": "bd083abe",
   "metadata": {},
   "outputs": [],
   "source": [
    "# model.encoder.get_loss_aux()"
   ]
  },
  {
   "cell_type": "markdown",
   "id": "c9ae12fc",
   "metadata": {},
   "source": [
    "## Training"
   ]
  },
  {
   "cell_type": "code",
   "execution_count": 18,
   "id": "00bed402",
   "metadata": {},
   "outputs": [],
   "source": [
    "def top_k_accuracy(scores, labels, topk=(1, )):\n",
    "    \"\"\"Calculate top k accuracy score.\n",
    "    Args:\n",
    "        scores (list[np.ndarray]): Prediction scores for each class.\n",
    "        labels (list[int]): Ground truth labels.\n",
    "        topk (tuple[int]): K value for top_k_accuracy. Default: (1, ).\n",
    "    Returns:\n",
    "        list[float]: Top k accuracy score for each k.\n",
    "    \"\"\"\n",
    "    res = np.zeros(len(topk))\n",
    "    labels = np.array(labels)[:, np.newaxis]\n",
    "    for i, k in enumerate(topk):\n",
    "        max_k_preds = np.argsort(scores, axis=1)[:, -k:][:, ::-1]\n",
    "        match_array = np.logical_or.reduce(max_k_preds == labels, axis=1)\n",
    "        topk_acc_score = match_array.sum() / match_array.shape[0]\n",
    "        res[i] = topk_acc_score\n",
    "\n",
    "    return res"
   ]
  },
  {
   "cell_type": "code",
   "execution_count": 19,
   "id": "ff077de5",
   "metadata": {},
   "outputs": [],
   "source": [
    "def train_one_epoch(epoch_index, interval=5):\n",
    "    running_loss = 0.\n",
    "    last_loss = 0.\n",
    "\n",
    "    # Here, we use enumerate(training_loader) instead of\n",
    "    # iter(training_loader) so that we can track the batch\n",
    "    # index and do some intra-epoch reporting\n",
    "    for i, (images, targets) in enumerate(train_loader):\n",
    "        # Every data instance is an input + label pair\n",
    "        images, targets = images.to(device).permute(0,2,1,3,4), targets.to(device)\n",
    "\n",
    "        # Zero your gradients for every batch!\n",
    "        optimizer.zero_grad()\n",
    "\n",
    "        # Make predictions for this batch\n",
    "        outputs = model(images, targets)\n",
    "\n",
    "        # Compute the total loss with the encoder's auxiliary loss\n",
    "        loss = loss_fn(outputs, targets) + model.encoder.get_loss_aux()\n",
    "        loss.backward()\n",
    "        \n",
    "        # Gradient Clipping\n",
    "        torch.nn.utils.clip_grad_norm_(model.parameters(), max_norm=40, norm_type=2)\n",
    "\n",
    "        # Adjust learning weights\n",
    "        optimizer.step()\n",
    "        scheduler.step()\n",
    "\n",
    "        # Gather data and report\n",
    "        running_loss += loss.item()\n",
    "        if i % interval == interval-1:\n",
    "            last_loss = running_loss / interval # loss per batch     \n",
    "            print(f'Epoch [{epoch_index}][{i+1}/{len(train_loader)}], lr: {scheduler.get_last_lr()[0]:.5e}, loss: {last_loss:.5}')\n",
    "            running_loss = 0.\n",
    "    \n",
    "    avg_loss = running_loss / (i + 1)\n",
    "    return avg_loss"
   ]
  },
  {
   "cell_type": "code",
   "execution_count": 20,
   "id": "d7db16ec",
   "metadata": {},
   "outputs": [],
   "source": [
    "def validate():\n",
    "    running_vloss = 0.0\n",
    "    running_vacc = np.zeros(2)\n",
    "    \n",
    "    print('Evaluating top_k_accuracy...')\n",
    "    \n",
    "    with torch.inference_mode():   \n",
    "        for i, (vimages, vtargets) in enumerate(test_loader):\n",
    "            vimages, vtargets = vimages.to(device), vtargets.to(device)\n",
    "            \n",
    "            voutputs = model(vimages.permute(0,2,1,3,4), vtargets)\n",
    "            \n",
    "            vloss = loss_fn(voutputs, vtargets) + model.encoder.get_loss_aux()\n",
    "            running_vloss += vloss\n",
    "\n",
    "            running_vacc += top_k_accuracy(voutputs.detach().cpu().numpy(), vtargets.detach().cpu().numpy(), topk=(1,5))\n",
    "\n",
    "    avg_vloss = running_vloss / (i + 1)\n",
    "\n",
    "    acc = running_vacc/len(test_loader)\n",
    "    top1_acc = acc[0].item()\n",
    "    top5_acc = acc[1].item()\n",
    "    \n",
    "    return (avg_vloss, top1_acc, top5_acc)"
   ]
  },
  {
   "cell_type": "code",
   "execution_count": 21,
   "id": "5eb60833",
   "metadata": {
    "scrolled": true
   },
   "outputs": [
    {
     "name": "stderr",
     "output_type": "stream",
     "text": [
      "/home/sadat/miniconda3/envs/mmsign/lib/python3.8/site-packages/torch/nn/functional.py:878: UserWarning: Note that order of the arguments: ceil_mode and return_indices will changeto match the args list in nn.MaxPool3d in a future release.\n",
      "  warnings.warn(\"Note that order of the arguments: ceil_mode and return_indices will change\"\n"
     ]
    },
    {
     "name": "stdout",
     "output_type": "stream",
     "text": [
      "Epoch [1][5/112], lr: 1.00000e-02, loss: 8.9355\n",
      "Epoch [1][10/112], lr: 1.00000e-02, loss: 8.5296\n",
      "Epoch [1][15/112], lr: 1.00000e-02, loss: 8.4701\n",
      "Epoch [1][20/112], lr: 1.00000e-02, loss: 7.8916\n",
      "Epoch [1][25/112], lr: 1.00000e-02, loss: 7.935\n",
      "Epoch [1][30/112], lr: 1.00000e-02, loss: 7.6815\n",
      "Epoch [1][35/112], lr: 1.00000e-02, loss: 7.8408\n",
      "Epoch [1][40/112], lr: 1.00000e-02, loss: 7.5524\n",
      "Epoch [1][45/112], lr: 1.00000e-02, loss: 7.4407\n",
      "Epoch [1][50/112], lr: 1.00000e-02, loss: 7.5729\n",
      "Epoch [1][55/112], lr: 1.00000e-02, loss: 7.505\n",
      "Epoch [1][60/112], lr: 1.00000e-02, loss: 7.5715\n",
      "Epoch [1][65/112], lr: 1.00000e-02, loss: 7.3453\n",
      "Epoch [1][70/112], lr: 1.00000e-02, loss: 7.5266\n",
      "Epoch [1][75/112], lr: 1.00000e-03, loss: 7.3394\n",
      "Epoch [1][80/112], lr: 1.00000e-03, loss: 7.3859\n",
      "Epoch [1][85/112], lr: 1.00000e-03, loss: 7.2694\n",
      "Epoch [1][90/112], lr: 1.00000e-03, loss: 7.2463\n",
      "Epoch [1][95/112], lr: 1.00000e-03, loss: 7.2638\n",
      "Epoch [1][100/112], lr: 1.00000e-03, loss: 7.2421\n",
      "Epoch [1][105/112], lr: 1.00000e-03, loss: 7.1331\n",
      "Epoch [1][110/112], lr: 1.00000e-03, loss: 7.2536\n",
      "Evaluating top_k_accuracy...\n",
      "top1_acc: 0.01163, top5_acc: 0.05814, train_loss: 0.12087, val_loss: 7.1443\n",
      "Saving checkpoint at 1 epochs...\n",
      "Epoch [2][5/112], lr: 1.00000e-03, loss: 7.2083\n",
      "Epoch [2][10/112], lr: 1.00000e-03, loss: 7.2331\n",
      "Epoch [2][15/112], lr: 1.00000e-04, loss: 7.2196\n",
      "Epoch [2][20/112], lr: 1.00000e-04, loss: 7.1525\n",
      "Epoch [2][25/112], lr: 1.00000e-04, loss: 7.1788\n",
      "Epoch [2][30/112], lr: 1.00000e-04, loss: 7.0457\n",
      "Epoch [2][35/112], lr: 1.00000e-04, loss: 7.1541\n",
      "Epoch [2][40/112], lr: 1.00000e-04, loss: 7.1498\n",
      "Epoch [2][45/112], lr: 1.00000e-04, loss: 7.1677\n",
      "Epoch [2][50/112], lr: 1.00000e-04, loss: 7.2056\n",
      "Epoch [2][55/112], lr: 1.00000e-04, loss: 7.0585\n",
      "Epoch [2][60/112], lr: 1.00000e-04, loss: 7.052\n",
      "Epoch [2][65/112], lr: 1.00000e-04, loss: 7.0931\n",
      "Epoch [2][70/112], lr: 1.00000e-04, loss: 7.1851\n",
      "Epoch [2][75/112], lr: 1.00000e-04, loss: 7.0769\n",
      "Epoch [2][80/112], lr: 1.00000e-04, loss: 7.1056\n",
      "Epoch [2][85/112], lr: 1.00000e-04, loss: 7.1048\n",
      "Epoch [2][90/112], lr: 1.00000e-04, loss: 7.0039\n",
      "Epoch [2][95/112], lr: 1.00000e-04, loss: 7.0584\n",
      "Epoch [2][100/112], lr: 1.00000e-04, loss: 7.1279\n",
      "Epoch [2][105/112], lr: 1.00000e-04, loss: 7.2006\n",
      "Epoch [2][110/112], lr: 1.00000e-04, loss: 7.0631\n",
      "Evaluating top_k_accuracy...\n",
      "top1_acc: 0.01938, top5_acc: 0.06202, train_loss: 0.12836, val_loss: 7.0902\n",
      "Saving checkpoint at 2 epochs...\n",
      "Epoch [3][5/112], lr: 1.00000e-04, loss: 7.1058\n",
      "Epoch [3][10/112], lr: 1.00000e-04, loss: 7.1522\n",
      "Epoch [3][15/112], lr: 1.00000e-04, loss: 7.0346\n",
      "Epoch [3][20/112], lr: 1.00000e-04, loss: 7.1398\n",
      "Epoch [3][25/112], lr: 1.00000e-04, loss: 7.1369\n",
      "Epoch [3][30/112], lr: 1.00000e-04, loss: 7.1353\n",
      "Epoch [3][35/112], lr: 1.00000e-04, loss: 7.0095\n",
      "Epoch [3][40/112], lr: 1.00000e-04, loss: 7.0658\n",
      "Epoch [3][45/112], lr: 1.00000e-04, loss: 7.2051\n",
      "Epoch [3][50/112], lr: 1.00000e-04, loss: 7.1819\n",
      "Epoch [3][55/112], lr: 1.00000e-04, loss: 6.9705\n",
      "Epoch [3][60/112], lr: 1.00000e-04, loss: 7.0645\n",
      "Epoch [3][65/112], lr: 1.00000e-04, loss: 7.1176\n",
      "Epoch [3][70/112], lr: 1.00000e-04, loss: 7.1874\n",
      "Epoch [3][75/112], lr: 1.00000e-04, loss: 7.1199\n",
      "Epoch [3][80/112], lr: 1.00000e-04, loss: 7.1277\n",
      "Epoch [3][85/112], lr: 1.00000e-04, loss: 7.0947\n",
      "Epoch [3][90/112], lr: 1.00000e-04, loss: 7.1652\n",
      "Epoch [3][95/112], lr: 1.00000e-04, loss: 7.0743\n",
      "Epoch [3][100/112], lr: 1.00000e-04, loss: 7.0865\n",
      "Epoch [3][105/112], lr: 1.00000e-04, loss: 7.1017\n",
      "Epoch [3][110/112], lr: 1.00000e-04, loss: 7.1252\n",
      "Evaluating top_k_accuracy...\n",
      "top1_acc: 0.0155, top5_acc: 0.06589, train_loss: 0.12511, val_loss: 7.0703\n",
      "Saving checkpoint at 3 epochs...\n",
      "Epoch [4][5/112], lr: 1.00000e-04, loss: 7.0495\n",
      "Epoch [4][10/112], lr: 1.00000e-04, loss: 7.1343\n",
      "Epoch [4][15/112], lr: 1.00000e-04, loss: 7.1561\n",
      "Epoch [4][20/112], lr: 1.00000e-04, loss: 7.0147\n",
      "Epoch [4][25/112], lr: 1.00000e-04, loss: 6.9636\n",
      "Epoch [4][30/112], lr: 1.00000e-04, loss: 7.1165\n",
      "Epoch [4][35/112], lr: 1.00000e-04, loss: 7.1523\n",
      "Epoch [4][40/112], lr: 1.00000e-04, loss: 7.1196\n",
      "Epoch [4][45/112], lr: 1.00000e-04, loss: 7.0505\n",
      "Epoch [4][50/112], lr: 1.00000e-04, loss: 7.1504\n",
      "Epoch [4][55/112], lr: 1.00000e-04, loss: 7.0868\n",
      "Epoch [4][60/112], lr: 1.00000e-04, loss: 7.0253\n",
      "Epoch [4][65/112], lr: 1.00000e-04, loss: 7.0434\n",
      "Epoch [4][70/112], lr: 1.00000e-04, loss: 7.0892\n",
      "Epoch [4][75/112], lr: 1.00000e-04, loss: 7.163\n",
      "Epoch [4][80/112], lr: 1.00000e-04, loss: 7.0759\n",
      "Epoch [4][85/112], lr: 1.00000e-04, loss: 7.0651\n",
      "Epoch [4][90/112], lr: 1.00000e-04, loss: 7.0862\n",
      "Epoch [4][95/112], lr: 1.00000e-04, loss: 7.0488\n",
      "Epoch [4][100/112], lr: 1.00000e-04, loss: 7.0535\n",
      "Epoch [4][105/112], lr: 1.00000e-04, loss: 7.0877\n",
      "Epoch [4][110/112], lr: 1.00000e-04, loss: 6.9937\n",
      "Evaluating top_k_accuracy...\n",
      "top1_acc: 0.0155, top5_acc: 0.06589, train_loss: 0.12896, val_loss: 7.0534\n",
      "Saving checkpoint at 4 epochs...\n",
      "Epoch [5][5/112], lr: 1.00000e-04, loss: 7.0668\n",
      "Epoch [5][10/112], lr: 1.00000e-04, loss: 7.1458\n",
      "Epoch [5][15/112], lr: 1.00000e-04, loss: 7.0107\n",
      "Epoch [5][20/112], lr: 1.00000e-04, loss: 7.0244\n",
      "Epoch [5][25/112], lr: 1.00000e-04, loss: 7.1089\n",
      "Epoch [5][30/112], lr: 1.00000e-04, loss: 7.0928\n",
      "Epoch [5][35/112], lr: 1.00000e-04, loss: 7.1185\n",
      "Epoch [5][40/112], lr: 1.00000e-04, loss: 7.0701\n",
      "Epoch [5][45/112], lr: 1.00000e-04, loss: 7.0146\n",
      "Epoch [5][50/112], lr: 1.00000e-04, loss: 7.0373\n",
      "Epoch [5][55/112], lr: 1.00000e-04, loss: 7.0079\n",
      "Epoch [5][60/112], lr: 1.00000e-04, loss: 7.09\n",
      "Epoch [5][65/112], lr: 1.00000e-04, loss: 7.1311\n",
      "Epoch [5][70/112], lr: 1.00000e-04, loss: 6.9827\n",
      "Epoch [5][75/112], lr: 1.00000e-04, loss: 7.034\n",
      "Epoch [5][80/112], lr: 1.00000e-04, loss: 7.076\n",
      "Epoch [5][85/112], lr: 1.00000e-04, loss: 6.9838\n",
      "Epoch [5][90/112], lr: 1.00000e-04, loss: 7.0773\n",
      "Epoch [5][95/112], lr: 1.00000e-04, loss: 7.0899\n",
      "Epoch [5][100/112], lr: 1.00000e-04, loss: 7.1195\n",
      "Epoch [5][105/112], lr: 1.00000e-04, loss: 7.1621\n",
      "Epoch [5][110/112], lr: 1.00000e-04, loss: 7.0468\n",
      "Evaluating top_k_accuracy...\n",
      "top1_acc: 0.0155, top5_acc: 0.06202, train_loss: 0.12426, val_loss: 7.038\n",
      "Saving checkpoint at 5 epochs...\n"
     ]
    },
    {
     "ename": "KeyboardInterrupt",
     "evalue": "",
     "output_type": "error",
     "traceback": [
      "\u001b[0;31m---------------------------------------------------------------------------\u001b[0m",
      "\u001b[0;31mKeyboardInterrupt\u001b[0m                         Traceback (most recent call last)",
      "Input \u001b[0;32mIn [21]\u001b[0m, in \u001b[0;36m<cell line: 8>\u001b[0;34m()\u001b[0m\n\u001b[1;32m      8\u001b[0m \u001b[38;5;28;01mfor\u001b[39;00m epoch \u001b[38;5;129;01min\u001b[39;00m \u001b[38;5;28mrange\u001b[39m(epochs):\n\u001b[1;32m      9\u001b[0m     \n\u001b[1;32m     10\u001b[0m     \u001b[38;5;66;03m# Turn on gradient tracking and do a forward pass\u001b[39;00m\n\u001b[1;32m     11\u001b[0m     model\u001b[38;5;241m.\u001b[39mtrain(\u001b[38;5;28;01mTrue\u001b[39;00m)\n\u001b[0;32m---> 12\u001b[0m     avg_loss \u001b[38;5;241m=\u001b[39m \u001b[43mtrain_one_epoch\u001b[49m\u001b[43m(\u001b[49m\u001b[43mepoch\u001b[49m\u001b[38;5;241;43m+\u001b[39;49m\u001b[38;5;241;43m1\u001b[39;49m\u001b[43m)\u001b[49m\n\u001b[1;32m     14\u001b[0m     \u001b[38;5;66;03m# Turn off  gradients for reporting\u001b[39;00m\n\u001b[1;32m     15\u001b[0m     model\u001b[38;5;241m.\u001b[39mtrain(\u001b[38;5;28;01mFalse\u001b[39;00m)\n",
      "Input \u001b[0;32mIn [19]\u001b[0m, in \u001b[0;36mtrain_one_epoch\u001b[0;34m(epoch_index, interval)\u001b[0m\n\u001b[1;32m      3\u001b[0m last_loss \u001b[38;5;241m=\u001b[39m \u001b[38;5;241m0.\u001b[39m\n\u001b[1;32m      5\u001b[0m \u001b[38;5;66;03m# Here, we use enumerate(training_loader) instead of\u001b[39;00m\n\u001b[1;32m      6\u001b[0m \u001b[38;5;66;03m# iter(training_loader) so that we can track the batch\u001b[39;00m\n\u001b[1;32m      7\u001b[0m \u001b[38;5;66;03m# index and do some intra-epoch reporting\u001b[39;00m\n\u001b[0;32m----> 8\u001b[0m \u001b[38;5;28;01mfor\u001b[39;00m i, (images, targets) \u001b[38;5;129;01min\u001b[39;00m \u001b[38;5;28menumerate\u001b[39m(train_loader):\n\u001b[1;32m      9\u001b[0m     \u001b[38;5;66;03m# Every data instance is an input + label pair\u001b[39;00m\n\u001b[1;32m     10\u001b[0m     images, targets \u001b[38;5;241m=\u001b[39m images\u001b[38;5;241m.\u001b[39mto(device)\u001b[38;5;241m.\u001b[39mpermute(\u001b[38;5;241m0\u001b[39m,\u001b[38;5;241m2\u001b[39m,\u001b[38;5;241m1\u001b[39m,\u001b[38;5;241m3\u001b[39m,\u001b[38;5;241m4\u001b[39m), targets\u001b[38;5;241m.\u001b[39mto(device)\n\u001b[1;32m     12\u001b[0m     \u001b[38;5;66;03m# Zero your gradients for every batch!\u001b[39;00m\n",
      "File \u001b[0;32m~/miniconda3/envs/mmsign/lib/python3.8/site-packages/torch/utils/data/dataloader.py:530\u001b[0m, in \u001b[0;36m_BaseDataLoaderIter.__next__\u001b[0;34m(self)\u001b[0m\n\u001b[1;32m    528\u001b[0m \u001b[38;5;28;01mif\u001b[39;00m \u001b[38;5;28mself\u001b[39m\u001b[38;5;241m.\u001b[39m_sampler_iter \u001b[38;5;129;01mis\u001b[39;00m \u001b[38;5;28;01mNone\u001b[39;00m:\n\u001b[1;32m    529\u001b[0m     \u001b[38;5;28mself\u001b[39m\u001b[38;5;241m.\u001b[39m_reset()\n\u001b[0;32m--> 530\u001b[0m data \u001b[38;5;241m=\u001b[39m \u001b[38;5;28;43mself\u001b[39;49m\u001b[38;5;241;43m.\u001b[39;49m\u001b[43m_next_data\u001b[49m\u001b[43m(\u001b[49m\u001b[43m)\u001b[49m\n\u001b[1;32m    531\u001b[0m \u001b[38;5;28mself\u001b[39m\u001b[38;5;241m.\u001b[39m_num_yielded \u001b[38;5;241m+\u001b[39m\u001b[38;5;241m=\u001b[39m \u001b[38;5;241m1\u001b[39m\n\u001b[1;32m    532\u001b[0m \u001b[38;5;28;01mif\u001b[39;00m \u001b[38;5;28mself\u001b[39m\u001b[38;5;241m.\u001b[39m_dataset_kind \u001b[38;5;241m==\u001b[39m _DatasetKind\u001b[38;5;241m.\u001b[39mIterable \u001b[38;5;129;01mand\u001b[39;00m \\\n\u001b[1;32m    533\u001b[0m         \u001b[38;5;28mself\u001b[39m\u001b[38;5;241m.\u001b[39m_IterableDataset_len_called \u001b[38;5;129;01mis\u001b[39;00m \u001b[38;5;129;01mnot\u001b[39;00m \u001b[38;5;28;01mNone\u001b[39;00m \u001b[38;5;129;01mand\u001b[39;00m \\\n\u001b[1;32m    534\u001b[0m         \u001b[38;5;28mself\u001b[39m\u001b[38;5;241m.\u001b[39m_num_yielded \u001b[38;5;241m>\u001b[39m \u001b[38;5;28mself\u001b[39m\u001b[38;5;241m.\u001b[39m_IterableDataset_len_called:\n",
      "File \u001b[0;32m~/miniconda3/envs/mmsign/lib/python3.8/site-packages/torch/utils/data/dataloader.py:1207\u001b[0m, in \u001b[0;36m_MultiProcessingDataLoaderIter._next_data\u001b[0;34m(self)\u001b[0m\n\u001b[1;32m   1204\u001b[0m     \u001b[38;5;28;01mreturn\u001b[39;00m \u001b[38;5;28mself\u001b[39m\u001b[38;5;241m.\u001b[39m_process_data(data)\n\u001b[1;32m   1206\u001b[0m \u001b[38;5;28;01massert\u001b[39;00m \u001b[38;5;129;01mnot\u001b[39;00m \u001b[38;5;28mself\u001b[39m\u001b[38;5;241m.\u001b[39m_shutdown \u001b[38;5;129;01mand\u001b[39;00m \u001b[38;5;28mself\u001b[39m\u001b[38;5;241m.\u001b[39m_tasks_outstanding \u001b[38;5;241m>\u001b[39m \u001b[38;5;241m0\u001b[39m\n\u001b[0;32m-> 1207\u001b[0m idx, data \u001b[38;5;241m=\u001b[39m \u001b[38;5;28;43mself\u001b[39;49m\u001b[38;5;241;43m.\u001b[39;49m\u001b[43m_get_data\u001b[49m\u001b[43m(\u001b[49m\u001b[43m)\u001b[49m\n\u001b[1;32m   1208\u001b[0m \u001b[38;5;28mself\u001b[39m\u001b[38;5;241m.\u001b[39m_tasks_outstanding \u001b[38;5;241m-\u001b[39m\u001b[38;5;241m=\u001b[39m \u001b[38;5;241m1\u001b[39m\n\u001b[1;32m   1209\u001b[0m \u001b[38;5;28;01mif\u001b[39;00m \u001b[38;5;28mself\u001b[39m\u001b[38;5;241m.\u001b[39m_dataset_kind \u001b[38;5;241m==\u001b[39m _DatasetKind\u001b[38;5;241m.\u001b[39mIterable:\n\u001b[1;32m   1210\u001b[0m     \u001b[38;5;66;03m# Check for _IterableDatasetStopIteration\u001b[39;00m\n",
      "File \u001b[0;32m~/miniconda3/envs/mmsign/lib/python3.8/site-packages/torch/utils/data/dataloader.py:1163\u001b[0m, in \u001b[0;36m_MultiProcessingDataLoaderIter._get_data\u001b[0;34m(self)\u001b[0m\n\u001b[1;32m   1161\u001b[0m \u001b[38;5;28;01melif\u001b[39;00m \u001b[38;5;28mself\u001b[39m\u001b[38;5;241m.\u001b[39m_pin_memory:\n\u001b[1;32m   1162\u001b[0m     \u001b[38;5;28;01mwhile\u001b[39;00m \u001b[38;5;28mself\u001b[39m\u001b[38;5;241m.\u001b[39m_pin_memory_thread\u001b[38;5;241m.\u001b[39mis_alive():\n\u001b[0;32m-> 1163\u001b[0m         success, data \u001b[38;5;241m=\u001b[39m \u001b[38;5;28;43mself\u001b[39;49m\u001b[38;5;241;43m.\u001b[39;49m\u001b[43m_try_get_data\u001b[49m\u001b[43m(\u001b[49m\u001b[43m)\u001b[49m\n\u001b[1;32m   1164\u001b[0m         \u001b[38;5;28;01mif\u001b[39;00m success:\n\u001b[1;32m   1165\u001b[0m             \u001b[38;5;28;01mreturn\u001b[39;00m data\n",
      "File \u001b[0;32m~/miniconda3/envs/mmsign/lib/python3.8/site-packages/torch/utils/data/dataloader.py:1011\u001b[0m, in \u001b[0;36m_MultiProcessingDataLoaderIter._try_get_data\u001b[0;34m(self, timeout)\u001b[0m\n\u001b[1;32m    998\u001b[0m \u001b[38;5;28;01mdef\u001b[39;00m \u001b[38;5;21m_try_get_data\u001b[39m(\u001b[38;5;28mself\u001b[39m, timeout\u001b[38;5;241m=\u001b[39m_utils\u001b[38;5;241m.\u001b[39mMP_STATUS_CHECK_INTERVAL):\n\u001b[1;32m    999\u001b[0m     \u001b[38;5;66;03m# Tries to fetch data from `self._data_queue` once for a given timeout.\u001b[39;00m\n\u001b[1;32m   1000\u001b[0m     \u001b[38;5;66;03m# This can also be used as inner loop of fetching without timeout, with\u001b[39;00m\n\u001b[0;32m   (...)\u001b[0m\n\u001b[1;32m   1008\u001b[0m     \u001b[38;5;66;03m# Returns a 2-tuple:\u001b[39;00m\n\u001b[1;32m   1009\u001b[0m     \u001b[38;5;66;03m#   (bool: whether successfully get data, any: data if successful else None)\u001b[39;00m\n\u001b[1;32m   1010\u001b[0m     \u001b[38;5;28;01mtry\u001b[39;00m:\n\u001b[0;32m-> 1011\u001b[0m         data \u001b[38;5;241m=\u001b[39m \u001b[38;5;28;43mself\u001b[39;49m\u001b[38;5;241;43m.\u001b[39;49m\u001b[43m_data_queue\u001b[49m\u001b[38;5;241;43m.\u001b[39;49m\u001b[43mget\u001b[49m\u001b[43m(\u001b[49m\u001b[43mtimeout\u001b[49m\u001b[38;5;241;43m=\u001b[39;49m\u001b[43mtimeout\u001b[49m\u001b[43m)\u001b[49m\n\u001b[1;32m   1012\u001b[0m         \u001b[38;5;28;01mreturn\u001b[39;00m (\u001b[38;5;28;01mTrue\u001b[39;00m, data)\n\u001b[1;32m   1013\u001b[0m     \u001b[38;5;28;01mexcept\u001b[39;00m \u001b[38;5;167;01mException\u001b[39;00m \u001b[38;5;28;01mas\u001b[39;00m e:\n\u001b[1;32m   1014\u001b[0m         \u001b[38;5;66;03m# At timeout and error, we manually check whether any worker has\u001b[39;00m\n\u001b[1;32m   1015\u001b[0m         \u001b[38;5;66;03m# failed. Note that this is the only mechanism for Windows to detect\u001b[39;00m\n\u001b[1;32m   1016\u001b[0m         \u001b[38;5;66;03m# worker failures.\u001b[39;00m\n",
      "File \u001b[0;32m~/miniconda3/envs/mmsign/lib/python3.8/queue.py:179\u001b[0m, in \u001b[0;36mQueue.get\u001b[0;34m(self, block, timeout)\u001b[0m\n\u001b[1;32m    177\u001b[0m         \u001b[38;5;28;01mif\u001b[39;00m remaining \u001b[38;5;241m<\u001b[39m\u001b[38;5;241m=\u001b[39m \u001b[38;5;241m0.0\u001b[39m:\n\u001b[1;32m    178\u001b[0m             \u001b[38;5;28;01mraise\u001b[39;00m Empty\n\u001b[0;32m--> 179\u001b[0m         \u001b[38;5;28;43mself\u001b[39;49m\u001b[38;5;241;43m.\u001b[39;49m\u001b[43mnot_empty\u001b[49m\u001b[38;5;241;43m.\u001b[39;49m\u001b[43mwait\u001b[49m\u001b[43m(\u001b[49m\u001b[43mremaining\u001b[49m\u001b[43m)\u001b[49m\n\u001b[1;32m    180\u001b[0m item \u001b[38;5;241m=\u001b[39m \u001b[38;5;28mself\u001b[39m\u001b[38;5;241m.\u001b[39m_get()\n\u001b[1;32m    181\u001b[0m \u001b[38;5;28mself\u001b[39m\u001b[38;5;241m.\u001b[39mnot_full\u001b[38;5;241m.\u001b[39mnotify()\n",
      "File \u001b[0;32m~/miniconda3/envs/mmsign/lib/python3.8/threading.py:306\u001b[0m, in \u001b[0;36mCondition.wait\u001b[0;34m(self, timeout)\u001b[0m\n\u001b[1;32m    304\u001b[0m \u001b[38;5;28;01melse\u001b[39;00m:\n\u001b[1;32m    305\u001b[0m     \u001b[38;5;28;01mif\u001b[39;00m timeout \u001b[38;5;241m>\u001b[39m \u001b[38;5;241m0\u001b[39m:\n\u001b[0;32m--> 306\u001b[0m         gotit \u001b[38;5;241m=\u001b[39m \u001b[43mwaiter\u001b[49m\u001b[38;5;241;43m.\u001b[39;49m\u001b[43macquire\u001b[49m\u001b[43m(\u001b[49m\u001b[38;5;28;43;01mTrue\u001b[39;49;00m\u001b[43m,\u001b[49m\u001b[43m \u001b[49m\u001b[43mtimeout\u001b[49m\u001b[43m)\u001b[49m\n\u001b[1;32m    307\u001b[0m     \u001b[38;5;28;01melse\u001b[39;00m:\n\u001b[1;32m    308\u001b[0m         gotit \u001b[38;5;241m=\u001b[39m waiter\u001b[38;5;241m.\u001b[39macquire(\u001b[38;5;28;01mFalse\u001b[39;00m)\n",
      "\u001b[0;31mKeyboardInterrupt\u001b[0m: "
     ]
    }
   ],
   "source": [
    "epochs = 150\n",
    "\n",
    "best_vloss = 1_000_000.\n",
    "\n",
    "# Transfer model to device\n",
    "model.to(device)\n",
    "\n",
    "for epoch in range(epochs):\n",
    "    \n",
    "    # Turn on gradient tracking and do a forward pass\n",
    "    model.train(True)\n",
    "    avg_loss = train_one_epoch(epoch+1)\n",
    "    \n",
    "    # Turn off  gradients for reporting\n",
    "    model.train(False)\n",
    "    \n",
    "    avg_vloss, top1_acc, top5_acc = validate()\n",
    "    \n",
    "    print(f'top1_acc: {top1_acc:.4}, top5_acc: {top5_acc:.4}, train_loss: {avg_loss:.5}, val_loss: {avg_vloss:.5}')\n",
    "    \n",
    "    # Track best performance, and save the model's state\n",
    "    if avg_vloss < best_vloss:\n",
    "        best_vloss = avg_vloss\n",
    "        model_path = work_dir + f'epoch_{epoch+1}'\n",
    "        print(f'Saving checkpoint at {epoch+1} epochs...')\n",
    "        torch.save(model.state_dict(), model_path)\n",
    "        \n",
    "    # Track wandb\n",
    "    wandb.log({'loss': avg_loss,\n",
    "             'val/loss': avg_vloss,\n",
    "             'val/top1_accuracy': top1_acc,\n",
    "             'val/top5_accuracy': top5_acc})"
   ]
  }
 ],
 "metadata": {
  "kernelspec": {
   "display_name": "mmsign",
   "language": "python",
   "name": "mmsign"
  },
  "language_info": {
   "codemirror_mode": {
    "name": "ipython",
    "version": 3
   },
   "file_extension": ".py",
   "mimetype": "text/x-python",
   "name": "python",
   "nbconvert_exporter": "python",
   "pygments_lexer": "ipython3",
   "version": "3.8.15"
  }
 },
 "nbformat": 4,
 "nbformat_minor": 5
}
