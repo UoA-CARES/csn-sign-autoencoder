{
 "cells": [
  {
   "cell_type": "markdown",
   "id": "a5bb2831",
   "metadata": {},
   "source": [
    "# CSN-Pytorch"
   ]
  },
  {
   "cell_type": "markdown",
   "id": "4f246b7d",
   "metadata": {},
   "source": [
    "## Imports"
   ]
  },
  {
   "cell_type": "code",
   "execution_count": 1,
   "id": "f12c1229",
   "metadata": {},
   "outputs": [
    {
     "name": "stderr",
     "output_type": "stream",
     "text": [
      "\u001b[34m\u001b[1mwandb\u001b[0m: Currently logged in as: \u001b[33msttaseen\u001b[0m (\u001b[33mcares\u001b[0m). Use \u001b[1m`wandb login --relogin`\u001b[0m to force relogin\n"
     ]
    },
    {
     "data": {
      "text/html": [
       "wandb version 0.13.9 is available!  To upgrade, please run:\n",
       " $ pip install wandb --upgrade"
      ],
      "text/plain": [
       "<IPython.core.display.HTML object>"
      ]
     },
     "metadata": {},
     "output_type": "display_data"
    },
    {
     "data": {
      "text/html": [
       "Tracking run with wandb version 0.13.5"
      ],
      "text/plain": [
       "<IPython.core.display.HTML object>"
      ]
     },
     "metadata": {},
     "output_type": "display_data"
    },
    {
     "data": {
      "text/html": [
       "Run data is saved locally in <code>/home/sadat/Desktop/csn-sign-autoencoder/wandb/run-20230120_194354-23fb609n</code>"
      ],
      "text/plain": [
       "<IPython.core.display.HTML object>"
      ]
     },
     "metadata": {},
     "output_type": "display_data"
    },
    {
     "data": {
      "text/html": [
       "Syncing run <strong><a href=\"https://wandb.ai/cares/autoencoder-experiments/runs/23fb609n\" target=\"_blank\">royal-firefly-5</a></strong> to <a href=\"https://wandb.ai/cares/autoencoder-experiments\" target=\"_blank\">Weights & Biases</a> (<a href=\"https://wandb.me/run\" target=\"_blank\">docs</a>)<br/>"
      ],
      "text/plain": [
       "<IPython.core.display.HTML object>"
      ]
     },
     "metadata": {},
     "output_type": "display_data"
    },
    {
     "data": {
      "text/html": [
       "<button onClick=\"this.nextSibling.style.display='block';this.style.display='none';\">Display W&B run</button><iframe src=\"https://wandb.ai/cares/autoencoder-experiments/runs/23fb609n?jupyter=true\" style=\"border:none;width:100%;height:420px;display:none;\"></iframe>"
      ],
      "text/plain": [
       "<wandb.sdk.wandb_run.Run at 0x7fda2764b910>"
      ]
     },
     "execution_count": 1,
     "metadata": {},
     "output_type": "execute_result"
    }
   ],
   "source": [
    "import os\n",
    "import torch\n",
    "import torch.nn as nn\n",
    "import matplotlib.pyplot as plt\n",
    "import wandb\n",
    "from csn import csn152\n",
    "from torchvision import transforms\n",
    "from video_dataset import VideoFrameDataset, ImglistToTensor\n",
    "\n",
    "wandb.init(entity=\"cares\", project=\"autoencoder-experiments\", group=\"pytorch-csn\")"
   ]
  },
  {
   "cell_type": "markdown",
   "id": "e3f89270",
   "metadata": {},
   "source": [
    "## Device Agnostic Code"
   ]
  },
  {
   "cell_type": "code",
   "execution_count": 2,
   "id": "fb88edad",
   "metadata": {},
   "outputs": [],
   "source": [
    "try:\n",
    "    device = 'mps' if torch.backends.mps.is_available() else 'cpu'\n",
    "except:\n",
    "    device = 'cuda' if torch.cuda.is_available() else 'cpu'"
   ]
  },
  {
   "cell_type": "markdown",
   "id": "4f8ddd37",
   "metadata": {},
   "source": [
    "## Data Setup"
   ]
  },
  {
   "cell_type": "code",
   "execution_count": 3,
   "id": "3f1d3968",
   "metadata": {},
   "outputs": [],
   "source": [
    "data_root = os.path.join(os.getcwd(), 'data/wlasl/rawframes') \n",
    "ann_file_train = os.path.join(os.getcwd(), 'data/wlasl/train_annotations.txt') \n",
    "ann_file_test = os.path.join(os.getcwd(), 'data/wlasl/test_annotations.txt')\n",
    "batch_size = 8\n",
    "\n",
    "# Setting up data transforms\n",
    "train_pipeline = transforms.Compose([\n",
    "        ImglistToTensor(), # list of PIL images to (FRAMES x CHANNELS x HEIGHT x WIDTH) tensor\n",
    "        transforms.Resize(256), # image batch, resize smaller edge to 256\n",
    "        transforms.RandomResizedCrop((224, 224)), # image batch, center crop to square 224x224\n",
    "        transforms.RandomHorizontalFlip(),\n",
    "        transforms.Normalize(mean=[0.485, 0.456, 0.406], std=[0.229, 0.224, 0.225]),\n",
    "    ])\n",
    "\n",
    "test_pipeline = transforms.Compose([\n",
    "        ImglistToTensor(), # list of PIL images to (FRAMES x CHANNELS x HEIGHT x WIDTH) tensor\n",
    "        transforms.Resize(256),  # image batch, resize smaller edge to 256\n",
    "        transforms.CenterCrop((224, 224)),  # image batch, center crop to square 224x224\n",
    "        transforms.Normalize(mean=[0.485, 0.456, 0.406], std=[0.229, 0.224, 0.225]),\n",
    "    ])\n",
    "\n",
    "# Setting up datasets\n",
    "train_dataset = VideoFrameDataset(\n",
    "    root_path=data_root,\n",
    "    annotationfile_path=ann_file_train,\n",
    "    num_segments=5,\n",
    "    frames_per_segment=1,\n",
    "    imagefile_template='img_{:05d}.jpg',\n",
    "    transform=train_pipeline,\n",
    "    test_mode=False\n",
    ")\n",
    "\n",
    "\n",
    "test_dataset = VideoFrameDataset(\n",
    "    root_path=data_root,\n",
    "    annotationfile_path=ann_file_test,\n",
    "    num_segments=5,\n",
    "    frames_per_segment=1,\n",
    "    imagefile_template='img_{:05d}.jpg',\n",
    "    transform=test_pipeline,\n",
    "    test_mode=True\n",
    ")\n",
    "\n",
    "# Setting up dataloaders\n",
    "train_loader = torch.utils.data.DataLoader(dataset=train_dataset,\n",
    "                                    batch_size=batch_size,\n",
    "                                    shuffle=False,\n",
    "                                    num_workers=4,\n",
    "                                    pin_memory=False)\n",
    "\n",
    "test_loader = torch.utils.data.DataLoader(dataset=test_dataset,\n",
    "                                    batch_size=1,\n",
    "                                    shuffle=False,\n",
    "                                    num_workers=4,\n",
    "                                    pin_memory=False)"
   ]
  },
  {
   "cell_type": "code",
   "execution_count": 4,
   "id": "4fe85cd0",
   "metadata": {
    "scrolled": false
   },
   "outputs": [
    {
     "data": {
      "text/plain": [
       "8"
      ]
     },
     "execution_count": 4,
     "metadata": {},
     "output_type": "execute_result"
    }
   ],
   "source": [
    "# Testing dataloader\n",
    "dataiter = iter(train_loader)\n",
    "get = next(dataiter)\n",
    "get[0].size(0)"
   ]
  },
  {
   "cell_type": "code",
   "execution_count": 5,
   "id": "b4516178",
   "metadata": {},
   "outputs": [
    {
     "data": {
      "text/plain": [
       "torch.Size([8, 3, 5, 224, 224])"
      ]
     },
     "execution_count": 5,
     "metadata": {},
     "output_type": "execute_result"
    }
   ],
   "source": [
    "reshape = get[0].permute(0,2,1,3,4)\n",
    "reshape.shape"
   ]
  },
  {
   "cell_type": "markdown",
   "id": "ff9d566c",
   "metadata": {},
   "source": [
    "## Set up model, loss, optimiser and others"
   ]
  },
  {
   "cell_type": "code",
   "execution_count": 6,
   "id": "907f2010",
   "metadata": {},
   "outputs": [
    {
     "data": {
      "text/plain": [
       "[]"
      ]
     },
     "execution_count": 6,
     "metadata": {},
     "output_type": "execute_result"
    }
   ],
   "source": [
    "# Create a CSN model\n",
    "csn = csn152(num_classes=400)\n",
    "\n",
    "# Specify loss function\n",
    "loss_fn = nn.CrossEntropyLoss()\n",
    "\n",
    "# Specify loss function\n",
    "optimizer = torch.optim.SGD(csn.parameters(), lr=0.000125, momentum=0.9, weight_decay=0.0001)\n",
    "\n",
    "# Specify learning rate scheduler\n",
    "scheduler = torch.optim.lr_scheduler.MultiStepLR(optimizer, milestones=[12,16])\n",
    "\n",
    "# Setup wandb\n",
    "wandb.watch(csn, log_freq=100)"
   ]
  },
  {
   "cell_type": "markdown",
   "id": "5b3c964d",
   "metadata": {},
   "source": [
    "## Train model"
   ]
  },
  {
   "cell_type": "code",
   "execution_count": null,
   "id": "deb99a86",
   "metadata": {},
   "outputs": [
    {
     "name": "stdout",
     "output_type": "stream",
     "text": [
      "Test Loss: 4.842 | Accuracy: 11.765\n",
      "Epoch: 1 \tTraining Loss: 5.909918\n",
      "Epoch: 2 \tTraining Loss: 4.946136\n",
      "Epoch: 3 \tTraining Loss: 4.913584\n",
      "Epoch: 4 \tTraining Loss: 4.901279\n",
      "Epoch: 5 \tTraining Loss: 4.843004\n",
      "Epoch: 6 \tTraining Loss: 4.846351\n",
      "Epoch: 7 \tTraining Loss: 4.796535\n",
      "Epoch: 8 \tTraining Loss: 4.773533\n",
      "Epoch: 9 \tTraining Loss: 4.745680\n",
      "Epoch: 10 \tTraining Loss: 4.745684\n",
      "Test Loss: 4.497 | Accuracy: 11.765\n",
      "Epoch: 11 \tTraining Loss: 4.704600\n",
      "Epoch: 12 \tTraining Loss: 4.674665\n",
      "Epoch: 13 \tTraining Loss: 4.654368\n",
      "Epoch: 14 \tTraining Loss: 4.612051\n",
      "Epoch: 15 \tTraining Loss: 4.599280\n",
      "Epoch: 16 \tTraining Loss: 4.599895\n",
      "Epoch: 17 \tTraining Loss: 4.550275\n",
      "Epoch: 18 \tTraining Loss: 4.515064\n",
      "Epoch: 19 \tTraining Loss: 4.519779\n",
      "Epoch: 20 \tTraining Loss: 4.486800\n",
      "Test Loss: 4.255 | Accuracy: 11.765\n",
      "Epoch: 21 \tTraining Loss: 4.463243\n",
      "Epoch: 22 \tTraining Loss: 4.430149\n",
      "Epoch: 23 \tTraining Loss: 4.392702\n",
      "Epoch: 24 \tTraining Loss: 4.407049\n",
      "Epoch: 25 \tTraining Loss: 4.317204\n",
      "Epoch: 26 \tTraining Loss: 4.375450\n",
      "Epoch: 27 \tTraining Loss: 4.324762\n",
      "Epoch: 28 \tTraining Loss: 4.297542\n",
      "Epoch: 29 \tTraining Loss: 4.261926\n",
      "Epoch: 30 \tTraining Loss: 4.249249\n",
      "Test Loss: 4.023 | Accuracy: 11.765\n",
      "Epoch: 31 \tTraining Loss: 4.210385\n",
      "Epoch: 32 \tTraining Loss: 4.203993\n",
      "Epoch: 33 \tTraining Loss: 4.195007\n",
      "Epoch: 34 \tTraining Loss: 4.184932\n",
      "Epoch: 35 \tTraining Loss: 4.134426\n",
      "Epoch: 36 \tTraining Loss: 4.125312\n",
      "Epoch: 37 \tTraining Loss: 4.084833\n",
      "Epoch: 38 \tTraining Loss: 4.080281\n",
      "Epoch: 39 \tTraining Loss: 4.083275\n",
      "Epoch: 40 \tTraining Loss: 4.032505\n",
      "Test Loss: 3.802 | Accuracy: 11.765\n",
      "Epoch: 41 \tTraining Loss: 4.030168\n",
      "Epoch: 42 \tTraining Loss: 4.020389\n",
      "Epoch: 43 \tTraining Loss: 3.984970\n",
      "Epoch: 44 \tTraining Loss: 3.969780\n",
      "Epoch: 45 \tTraining Loss: 3.953897\n",
      "Epoch: 46 \tTraining Loss: 3.953964\n",
      "Epoch: 47 \tTraining Loss: 3.922637\n",
      "Epoch: 48 \tTraining Loss: 3.896792\n",
      "Epoch: 49 \tTraining Loss: 3.894485\n",
      "Epoch: 50 \tTraining Loss: 3.887946\n",
      "Test Loss: 3.620 | Accuracy: 11.765\n",
      "Epoch: 51 \tTraining Loss: 3.836877\n",
      "Epoch: 52 \tTraining Loss: 3.825520\n",
      "Epoch: 53 \tTraining Loss: 3.793721\n",
      "Epoch: 54 \tTraining Loss: 3.811269\n",
      "Epoch: 55 \tTraining Loss: 3.739674\n",
      "Epoch: 56 \tTraining Loss: 3.767447\n",
      "Epoch: 57 \tTraining Loss: 3.749151\n",
      "Epoch: 58 \tTraining Loss: 3.756785\n",
      "Epoch: 59 \tTraining Loss: 3.733493\n",
      "Epoch: 60 \tTraining Loss: 3.658228\n",
      "Test Loss: 3.465 | Accuracy: 17.647\n",
      "Epoch: 61 \tTraining Loss: 3.651657\n",
      "Epoch: 62 \tTraining Loss: 3.648780\n",
      "Epoch: 63 \tTraining Loss: 3.643448\n",
      "Epoch: 64 \tTraining Loss: 3.604998\n",
      "Epoch: 65 \tTraining Loss: 3.624433\n",
      "Epoch: 66 \tTraining Loss: 3.615259\n",
      "Epoch: 67 \tTraining Loss: 3.590990\n",
      "Epoch: 68 \tTraining Loss: 3.576155\n",
      "Epoch: 69 \tTraining Loss: 3.571760\n",
      "Epoch: 70 \tTraining Loss: 3.508371\n",
      "Test Loss: 3.333 | Accuracy: 11.765\n",
      "Epoch: 71 \tTraining Loss: 3.556002\n",
      "Epoch: 72 \tTraining Loss: 3.499459\n",
      "Epoch: 73 \tTraining Loss: 3.503944\n",
      "Epoch: 74 \tTraining Loss: 3.514066\n",
      "Epoch: 75 \tTraining Loss: 3.459508\n",
      "Epoch: 76 \tTraining Loss: 3.443146\n",
      "Epoch: 77 \tTraining Loss: 3.486047\n",
      "Epoch: 78 \tTraining Loss: 3.475329\n",
      "Epoch: 79 \tTraining Loss: 3.417814\n",
      "Epoch: 80 \tTraining Loss: 3.424220\n",
      "Test Loss: 3.180 | Accuracy: 11.765\n",
      "Epoch: 81 \tTraining Loss: 3.406788\n",
      "Epoch: 82 \tTraining Loss: 3.388414\n",
      "Epoch: 83 \tTraining Loss: 3.364940\n",
      "Epoch: 84 \tTraining Loss: 3.389835\n",
      "Epoch: 85 \tTraining Loss: 3.358515\n",
      "Epoch: 86 \tTraining Loss: 3.362146\n",
      "Epoch: 87 \tTraining Loss: 3.344459\n",
      "Epoch: 88 \tTraining Loss: 3.328787\n",
      "Epoch: 89 \tTraining Loss: 3.280562\n",
      "Epoch: 90 \tTraining Loss: 3.310451\n",
      "Test Loss: 3.089 | Accuracy: 17.647\n",
      "Epoch: 91 \tTraining Loss: 3.282713\n",
      "Epoch: 92 \tTraining Loss: 3.271684\n",
      "Epoch: 93 \tTraining Loss: 3.272452\n",
      "Epoch: 94 \tTraining Loss: 3.252550\n",
      "Epoch: 95 \tTraining Loss: 3.243309\n",
      "Epoch: 96 \tTraining Loss: 3.269656\n",
      "Epoch: 97 \tTraining Loss: 3.259536\n",
      "Epoch: 98 \tTraining Loss: 3.235368\n",
      "Epoch: 99 \tTraining Loss: 3.210085\n",
      "Epoch: 100 \tTraining Loss: 3.213792\n",
      "Test Loss: 2.995 | Accuracy: 11.765\n",
      "Epoch: 101 \tTraining Loss: 3.186822\n",
      "Epoch: 102 \tTraining Loss: 3.148722\n",
      "Epoch: 103 \tTraining Loss: 3.182157\n",
      "Epoch: 104 \tTraining Loss: 3.165818\n",
      "Epoch: 105 \tTraining Loss: 3.183422\n",
      "Epoch: 106 \tTraining Loss: 3.120199\n",
      "Epoch: 107 \tTraining Loss: 3.100650\n",
      "Epoch: 108 \tTraining Loss: 3.115763\n",
      "Epoch: 109 \tTraining Loss: 3.111434\n",
      "Epoch: 110 \tTraining Loss: 3.160116\n",
      "Test Loss: 2.924 | Accuracy: 17.647\n",
      "Epoch: 111 \tTraining Loss: 3.113903\n",
      "Epoch: 112 \tTraining Loss: 3.086887\n",
      "Epoch: 113 \tTraining Loss: 3.085955\n",
      "Epoch: 114 \tTraining Loss: 3.109271\n",
      "Epoch: 115 \tTraining Loss: 3.070477\n",
      "Epoch: 116 \tTraining Loss: 3.048438\n",
      "Epoch: 117 \tTraining Loss: 3.034988\n",
      "Epoch: 118 \tTraining Loss: 3.036908\n",
      "Epoch: 119 \tTraining Loss: 3.046528\n",
      "Epoch: 120 \tTraining Loss: 3.052533\n",
      "Test Loss: 2.839 | Accuracy: 17.647\n",
      "Epoch: 121 \tTraining Loss: 3.035755\n",
      "Epoch: 122 \tTraining Loss: 3.046473\n",
      "Epoch: 123 \tTraining Loss: 3.016691\n",
      "Epoch: 124 \tTraining Loss: 2.975455\n",
      "Epoch: 125 \tTraining Loss: 3.007268\n",
      "Epoch: 126 \tTraining Loss: 2.998842\n",
      "Epoch: 127 \tTraining Loss: 2.985758\n",
      "Epoch: 128 \tTraining Loss: 2.978618\n",
      "Epoch: 129 \tTraining Loss: 2.930144\n",
      "Epoch: 130 \tTraining Loss: 2.949861\n"
     ]
    }
   ],
   "source": [
    "epochs = 150\n",
    "interval = 10 # For checkpoints and validation\n",
    "\n",
    "losses = []\n",
    "eval_accu = []\n",
    "eval_losses=[]\n",
    "\n",
    "csn.to(device)\n",
    "csn.train()\n",
    "\n",
    "for epoch in range(epochs):\n",
    "    # Reset train loss\n",
    "    train_loss = 0.0\n",
    "    for video_batch, targets in train_loader:\n",
    "        # Move data to device\n",
    "        video_batch, targets = video_batch.to(device), targets.to(device)\n",
    "        \n",
    "        # batch_size, n_frames, channels, h, w -> previous doesn't work\n",
    "        # batch_size, channels, n_frames, h, w -> current\n",
    "        predictions = csn(video_batch.permute(0,2,1,3,4))\n",
    "        \n",
    "        # Calculate loss\n",
    "        loss = loss_fn(predictions, targets)\n",
    "        \n",
    "        # Backpropagate\n",
    "        optimizer.zero_grad()\n",
    "        loss.backward()\n",
    "        \n",
    "        optimizer.step()\n",
    "        scheduler.step()\n",
    "        \n",
    "        # Calculate batch loss\n",
    "        train_loss += loss.item()\n",
    "        \n",
    "\n",
    "    # Check for interval to validate and save checkpoints\n",
    "    if interval!=0 and epoch%interval==0:\n",
    "        running_loss=0\n",
    "        correct=0\n",
    "        total=0\n",
    "        with torch.no_grad():\n",
    "            for video_batch, targets in test_loader:\n",
    "                video_batch, targets = video_batch.to(device), targets.to(device)\n",
    "\n",
    "                predictions = csn(video_batch.permute(0,2,1,3,4))\n",
    "                x = predictions\n",
    "                \n",
    "                loss = loss_fn(predictions, targets)\n",
    "                running_loss += loss.item()\n",
    "\n",
    "                _, predicted = predictions.max(1)\n",
    "                total += targets.size(0)\n",
    "                correct += predicted.eq(targets).sum().item()\n",
    "\n",
    "        test_loss=running_loss/len(test_loader)\n",
    "        accu=100.*correct/total\n",
    "\n",
    "        eval_losses.append(test_loss)\n",
    "        eval_accu.append(accu)\n",
    "        print('Test Loss: %.3f | Accuracy: %.3f'%(test_loss,accu)) \n",
    "\n",
    "    train_loss = train_loss/len(train_loader)\n",
    "    losses.append(train_loss)\n",
    "    print(f'Epoch: {epoch+1} \\tTraining Loss: {train_loss:.6f}')\n",
    "    \n",
    "    # Wandb Log\n",
    "    wandb.log({\"loss\": loss,\n",
    "              \"top_1_acc\": accu})"
   ]
  },
  {
   "cell_type": "code",
   "execution_count": null,
   "id": "743998a8",
   "metadata": {},
   "outputs": [],
   "source": [
    "plt.plot(losses)\n",
    "plt.title('Loss Graph')\n",
    "plt.ylabel('Loss')\n",
    "plt.xlabel('Epoch')"
   ]
  }
 ],
 "metadata": {
  "kernelspec": {
   "display_name": "mmsign",
   "language": "python",
   "name": "mmsign"
  },
  "language_info": {
   "codemirror_mode": {
    "name": "ipython",
    "version": 3
   },
   "file_extension": ".py",
   "mimetype": "text/x-python",
   "name": "python",
   "nbconvert_exporter": "python",
   "pygments_lexer": "ipython3",
   "version": "3.8.15"
  }
 },
 "nbformat": 4,
 "nbformat_minor": 5
}
