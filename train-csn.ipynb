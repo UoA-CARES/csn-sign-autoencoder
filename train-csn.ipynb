{
 "cells": [
  {
   "cell_type": "markdown",
   "id": "57d91355",
   "metadata": {},
   "source": [
    "# CSN-Pytorch"
   ]
  },
  {
   "cell_type": "markdown",
   "id": "61895648",
   "metadata": {},
   "source": [
    "## Imports"
   ]
  },
  {
   "cell_type": "code",
   "execution_count": 1,
   "id": "8fba2248",
   "metadata": {
    "scrolled": true
   },
   "outputs": [
    {
     "name": "stderr",
     "output_type": "stream",
     "text": [
      "\u001b[34m\u001b[1mwandb\u001b[0m: Currently logged in as: \u001b[33msttaseen\u001b[0m (\u001b[33mcares\u001b[0m). Use \u001b[1m`wandb login --relogin`\u001b[0m to force relogin\n"
     ]
    },
    {
     "data": {
      "text/html": [
       "wandb version 0.13.9 is available!  To upgrade, please run:\n",
       " $ pip install wandb --upgrade"
      ],
      "text/plain": [
       "<IPython.core.display.HTML object>"
      ]
     },
     "metadata": {},
     "output_type": "display_data"
    },
    {
     "data": {
      "text/html": [
       "Tracking run with wandb version 0.13.5"
      ],
      "text/plain": [
       "<IPython.core.display.HTML object>"
      ]
     },
     "metadata": {},
     "output_type": "display_data"
    },
    {
     "data": {
      "text/html": [
       "Run data is saved locally in <code>/home/sadat/Desktop/csn-sign-autoencoder/wandb/run-20230120_210218-gosmdgqa</code>"
      ],
      "text/plain": [
       "<IPython.core.display.HTML object>"
      ]
     },
     "metadata": {},
     "output_type": "display_data"
    },
    {
     "data": {
      "text/html": [
       "Syncing run <strong><a href=\"https://wandb.ai/cares/autoencoder-experiments/runs/gosmdgqa\" target=\"_blank\">magic-hill-26</a></strong> to <a href=\"https://wandb.ai/cares/autoencoder-experiments\" target=\"_blank\">Weights & Biases</a> (<a href=\"https://wandb.me/run\" target=\"_blank\">docs</a>)<br/>"
      ],
      "text/plain": [
       "<IPython.core.display.HTML object>"
      ]
     },
     "metadata": {},
     "output_type": "display_data"
    },
    {
     "data": {
      "text/html": [
       "<button onClick=\"this.nextSibling.style.display='block';this.style.display='none';\">Display W&B run</button><iframe src=\"https://wandb.ai/cares/autoencoder-experiments/runs/gosmdgqa?jupyter=true\" style=\"border:none;width:100%;height:420px;display:none;\"></iframe>"
      ],
      "text/plain": [
       "<wandb.sdk.wandb_run.Run at 0x7f7c385fc7f0>"
      ]
     },
     "execution_count": 1,
     "metadata": {},
     "output_type": "execute_result"
    }
   ],
   "source": [
    "import os\n",
    "import torch\n",
    "import torch.nn as nn\n",
    "import matplotlib.pyplot as plt\n",
    "import wandb\n",
    "from csn import csn152\n",
    "from torchvision import transforms\n",
    "from video_dataset import VideoFrameDataset, ImglistToTensor\n",
    "\n",
    "wandb.init(entity=\"cares\", project=\"autoencoder-experiments\", group=\"pytorch-csn\")"
   ]
  },
  {
   "cell_type": "markdown",
   "id": "14ceed89",
   "metadata": {},
   "source": [
    "## Device Agnostic Code"
   ]
  },
  {
   "cell_type": "code",
   "execution_count": 2,
   "id": "aa4123fd",
   "metadata": {},
   "outputs": [],
   "source": [
    "try:\n",
    "    device = 'mps' if torch.backends.mps.is_available() else 'cpu'\n",
    "except:\n",
    "    device = 'cuda' if torch.cuda.is_available() else 'cpu'"
   ]
  },
  {
   "cell_type": "markdown",
   "id": "7733cac9",
   "metadata": {},
   "source": [
    "## Data Setup"
   ]
  },
  {
   "cell_type": "code",
   "execution_count": 3,
   "id": "38c59f3b",
   "metadata": {},
   "outputs": [],
   "source": [
    "data_root = os.path.join(os.getcwd(), 'data/wlasl/rawframes') \n",
    "ann_file_train = os.path.join(os.getcwd(), 'data/wlasl/train_annotations.txt') \n",
    "ann_file_test = os.path.join(os.getcwd(), 'data/wlasl/test_annotations.txt')\n",
    "batch_size = 20\n",
    "\n",
    "# Setting up data augments\n",
    "train_pipeline = transforms.Compose([\n",
    "        ImglistToTensor(), # list of PIL images to (FRAMES x CHANNELS x HEIGHT x WIDTH) tensor\n",
    "        transforms.Resize(256), # image batch, resize smaller edge to 256\n",
    "        transforms.RandomResizedCrop((224, 224)), # image batch, center crop to square 224x224\n",
    "        transforms.RandomHorizontalFlip(),\n",
    "        transforms.Normalize(mean=[0.485, 0.456, 0.406], std=[0.229, 0.224, 0.225]),\n",
    "    ])\n",
    "\n",
    "test_pipeline = transforms.Compose([\n",
    "        ImglistToTensor(), # list of PIL images to (FRAMES x CHANNELS x HEIGHT x WIDTH) tensor\n",
    "        transforms.Resize(256),  # image batch, resize smaller edge to 256\n",
    "        transforms.CenterCrop((224, 224)),  # image batch, center crop to square 224x224\n",
    "        transforms.Normalize(mean=[0.485, 0.456, 0.406], std=[0.229, 0.224, 0.225]),\n",
    "    ])\n",
    "\n",
    "# Setting up datasets\n",
    "train_dataset = VideoFrameDataset(\n",
    "    root_path=data_root,\n",
    "    annotationfile_path=ann_file_train,\n",
    "    num_segments=5,\n",
    "    frames_per_segment=1,\n",
    "    imagefile_template='img_{:05d}.jpg',\n",
    "    transform=train_pipeline,\n",
    "    test_mode=False\n",
    ")\n",
    "\n",
    "\n",
    "test_dataset = VideoFrameDataset(\n",
    "    root_path=data_root,\n",
    "    annotationfile_path=ann_file_test,\n",
    "    num_segments=5,\n",
    "    frames_per_segment=1,\n",
    "    imagefile_template='img_{:05d}.jpg',\n",
    "    transform=test_pipeline,\n",
    "    test_mode=True\n",
    ")\n",
    "\n",
    "# Setting up dataloaders\n",
    "train_loader = torch.utils.data.DataLoader(dataset=train_dataset,\n",
    "                                    batch_size=batch_size,\n",
    "                                    shuffle=False,\n",
    "                                    num_workers=4,\n",
    "                                    pin_memory=False)\n",
    "\n",
    "test_loader = torch.utils.data.DataLoader(dataset=test_dataset,\n",
    "                                    batch_size=2,\n",
    "                                    shuffle=False,\n",
    "                                    num_workers=4,\n",
    "                                    pin_memory=False)"
   ]
  },
  {
   "cell_type": "code",
   "execution_count": 4,
   "id": "8be36ccb",
   "metadata": {},
   "outputs": [
    {
     "data": {
      "text/plain": [
       "torch.Size([20, 5, 3, 224, 224])"
      ]
     },
     "execution_count": 4,
     "metadata": {},
     "output_type": "execute_result"
    }
   ],
   "source": [
    "dataiter = iter(train_loader)\n",
    "get = next(dataiter)\n",
    "get[0].shape"
   ]
  },
  {
   "cell_type": "code",
   "execution_count": 5,
   "id": "50ce5c05",
   "metadata": {
    "scrolled": true
   },
   "outputs": [
    {
     "data": {
      "text/plain": [
       "torch.Size([20, 5, 3, 224, 224])"
      ]
     },
     "execution_count": 5,
     "metadata": {},
     "output_type": "execute_result"
    }
   ],
   "source": [
    "get = next(dataiter)\n",
    "get[0].shape"
   ]
  },
  {
   "cell_type": "code",
   "execution_count": 6,
   "id": "5b3905c7",
   "metadata": {
    "scrolled": false
   },
   "outputs": [
    {
     "data": {
      "text/plain": [
       "20"
      ]
     },
     "execution_count": 6,
     "metadata": {},
     "output_type": "execute_result"
    }
   ],
   "source": [
    "# Testing dataloader\n",
    "dataiter = iter(train_loader)\n",
    "get = next(dataiter)\n",
    "get[0].size(0)"
   ]
  },
  {
   "cell_type": "code",
   "execution_count": 7,
   "id": "7937f388",
   "metadata": {},
   "outputs": [
    {
     "data": {
      "text/plain": [
       "torch.Size([20, 3, 5, 224, 224])"
      ]
     },
     "execution_count": 7,
     "metadata": {},
     "output_type": "execute_result"
    }
   ],
   "source": [
    "reshape = get[0].permute(0,2,1,3,4)\n",
    "reshape.shape"
   ]
  },
  {
   "cell_type": "markdown",
   "id": "fdfa2d50",
   "metadata": {},
   "source": [
    "## Set up model, loss, optimiser and others"
   ]
  },
  {
   "cell_type": "code",
   "execution_count": 8,
   "id": "3685ba55",
   "metadata": {},
   "outputs": [
    {
     "data": {
      "text/plain": [
       "[]"
      ]
     },
     "execution_count": 8,
     "metadata": {},
     "output_type": "execute_result"
    }
   ],
   "source": [
    "# Create a CSN model\n",
    "csn = csn152(num_classes=400)\n",
    "\n",
    "# Specify loss function\n",
    "loss_fn = nn.CrossEntropyLoss()\n",
    "\n",
    "# Specify loss function\n",
    "optimizer = torch.optim.SGD(csn.parameters(), lr=0.000125, momentum=0.9, weight_decay=0.0001)\n",
    "\n",
    "# Specify learning rate scheduler\n",
    "scheduler = torch.optim.lr_scheduler.MultiStepLR(optimizer, milestones=[12,16])\n",
    "\n",
    "# Setup wandb\n",
    "wandb.watch(csn, log_freq=100)"
   ]
  },
  {
   "cell_type": "markdown",
   "id": "889c3f85",
   "metadata": {},
   "source": [
    "## Train model"
   ]
  },
  {
   "cell_type": "code",
   "execution_count": 9,
   "id": "06bf7c03",
   "metadata": {},
   "outputs": [
    {
     "name": "stdout",
     "output_type": "stream",
     "text": [
      "Test Loss: 6.144 | Accuracy: 1.163\n",
      "Epoch: 1 \tTraining Loss: 6.203974\n",
      "Epoch: 2 \tTraining Loss: 6.136650\n",
      "Epoch: 3 \tTraining Loss: 6.114966\n",
      "Epoch: 4 \tTraining Loss: 6.111706\n",
      "Epoch: 5 \tTraining Loss: 6.095893\n",
      "Epoch: 6 \tTraining Loss: 6.080412\n",
      "Epoch: 7 \tTraining Loss: 6.066241\n",
      "Epoch: 8 \tTraining Loss: 6.054830\n",
      "Epoch: 9 \tTraining Loss: 6.036645\n",
      "Epoch: 10 \tTraining Loss: 6.028039\n",
      "Test Loss: 6.004 | Accuracy: 1.550\n",
      "Epoch: 11 \tTraining Loss: 6.007580\n",
      "Epoch: 12 \tTraining Loss: 5.994394\n",
      "Epoch: 13 \tTraining Loss: 5.989599\n",
      "Epoch: 14 \tTraining Loss: 5.966802\n",
      "Epoch: 15 \tTraining Loss: 5.959431\n",
      "Epoch: 16 \tTraining Loss: 5.940715\n",
      "Epoch: 17 \tTraining Loss: 5.929746\n",
      "Epoch: 18 \tTraining Loss: 5.921752\n",
      "Epoch: 19 \tTraining Loss: 5.907103\n",
      "Epoch: 20 \tTraining Loss: 5.897848\n",
      "Test Loss: 5.879 | Accuracy: 1.550\n",
      "Epoch: 21 \tTraining Loss: 5.883977\n",
      "Epoch: 22 \tTraining Loss: 5.869026\n",
      "Epoch: 23 \tTraining Loss: 5.861079\n",
      "Epoch: 24 \tTraining Loss: 5.847597\n",
      "Epoch: 25 \tTraining Loss: 5.837798\n",
      "Epoch: 26 \tTraining Loss: 5.825043\n",
      "Epoch: 27 \tTraining Loss: 5.811977\n",
      "Epoch: 28 \tTraining Loss: 5.802490\n",
      "Epoch: 29 \tTraining Loss: 5.792341\n",
      "Epoch: 30 \tTraining Loss: 5.776774\n",
      "Test Loss: 5.759 | Accuracy: 1.550\n",
      "Epoch: 31 \tTraining Loss: 5.775789\n",
      "Epoch: 32 \tTraining Loss: 5.755871\n",
      "Epoch: 33 \tTraining Loss: 5.747094\n",
      "Epoch: 34 \tTraining Loss: 5.737047\n",
      "Epoch: 35 \tTraining Loss: 5.723269\n",
      "Epoch: 36 \tTraining Loss: 5.715660\n",
      "Epoch: 37 \tTraining Loss: 5.704680\n",
      "Epoch: 38 \tTraining Loss: 5.694194\n",
      "Epoch: 39 \tTraining Loss: 5.684898\n",
      "Epoch: 40 \tTraining Loss: 5.681481\n",
      "Test Loss: 5.659 | Accuracy: 1.163\n",
      "Epoch: 41 \tTraining Loss: 5.667349\n",
      "Epoch: 42 \tTraining Loss: 5.653460\n",
      "Epoch: 43 \tTraining Loss: 5.644463\n",
      "Epoch: 44 \tTraining Loss: 5.638648\n",
      "Epoch: 45 \tTraining Loss: 5.623763\n",
      "Epoch: 46 \tTraining Loss: 5.617140\n",
      "Epoch: 47 \tTraining Loss: 5.604639\n",
      "Epoch: 48 \tTraining Loss: 5.602000\n",
      "Epoch: 49 \tTraining Loss: 5.589878\n",
      "Epoch: 50 \tTraining Loss: 5.583331\n",
      "Test Loss: 5.562 | Accuracy: 1.163\n",
      "Epoch: 51 \tTraining Loss: 5.569380\n",
      "Epoch: 52 \tTraining Loss: 5.563875\n",
      "Epoch: 53 \tTraining Loss: 5.551982\n",
      "Epoch: 54 \tTraining Loss: 5.546209\n",
      "Epoch: 55 \tTraining Loss: 5.544438\n",
      "Epoch: 56 \tTraining Loss: 5.533329\n",
      "Epoch: 57 \tTraining Loss: 5.529891\n",
      "Epoch: 58 \tTraining Loss: 5.515426\n",
      "Epoch: 59 \tTraining Loss: 5.504064\n",
      "Epoch: 60 \tTraining Loss: 5.501486\n",
      "Test Loss: 5.487 | Accuracy: 0.000\n",
      "Epoch: 61 \tTraining Loss: 5.488733\n",
      "Epoch: 62 \tTraining Loss: 5.481176\n",
      "Epoch: 63 \tTraining Loss: 5.478505\n",
      "Epoch: 64 \tTraining Loss: 5.465587\n",
      "Epoch: 65 \tTraining Loss: 5.459308\n",
      "Epoch: 66 \tTraining Loss: 5.447804\n",
      "Epoch: 67 \tTraining Loss: 5.440099\n",
      "Epoch: 68 \tTraining Loss: 5.434452\n",
      "Epoch: 69 \tTraining Loss: 5.426131\n",
      "Epoch: 70 \tTraining Loss: 5.423551\n",
      "Test Loss: 5.404 | Accuracy: 1.163\n",
      "Epoch: 71 \tTraining Loss: 5.419146\n",
      "Epoch: 72 \tTraining Loss: 5.411147\n",
      "Epoch: 73 \tTraining Loss: 5.406887\n",
      "Epoch: 74 \tTraining Loss: 5.400326\n",
      "Epoch: 75 \tTraining Loss: 5.388284\n",
      "Epoch: 76 \tTraining Loss: 5.380267\n",
      "Epoch: 77 \tTraining Loss: 5.371041\n",
      "Epoch: 78 \tTraining Loss: 5.370515\n",
      "Epoch: 79 \tTraining Loss: 5.362299\n",
      "Epoch: 80 \tTraining Loss: 5.349924\n",
      "Test Loss: 5.331 | Accuracy: 1.550\n",
      "Epoch: 81 \tTraining Loss: 5.346676\n",
      "Epoch: 82 \tTraining Loss: 5.333898\n",
      "Epoch: 83 \tTraining Loss: 5.331658\n",
      "Epoch: 84 \tTraining Loss: 5.322409\n",
      "Epoch: 85 \tTraining Loss: 5.315615\n",
      "Epoch: 86 \tTraining Loss: 5.310407\n",
      "Epoch: 87 \tTraining Loss: 5.302505\n",
      "Epoch: 88 \tTraining Loss: 5.301245\n",
      "Epoch: 89 \tTraining Loss: 5.292889\n",
      "Epoch: 90 \tTraining Loss: 5.289730\n",
      "Test Loss: 5.279 | Accuracy: 1.938\n",
      "Epoch: 91 \tTraining Loss: 5.279446\n",
      "Epoch: 92 \tTraining Loss: 5.279201\n",
      "Epoch: 93 \tTraining Loss: 5.275327\n",
      "Epoch: 94 \tTraining Loss: 5.265890\n",
      "Epoch: 95 \tTraining Loss: 5.260356\n",
      "Epoch: 96 \tTraining Loss: 5.254885\n",
      "Epoch: 97 \tTraining Loss: 5.246875\n",
      "Epoch: 98 \tTraining Loss: 5.239514\n",
      "Epoch: 99 \tTraining Loss: 5.235942\n",
      "Epoch: 100 \tTraining Loss: 5.233050\n",
      "Test Loss: 5.218 | Accuracy: 1.550\n",
      "Epoch: 101 \tTraining Loss: 5.224769\n",
      "Epoch: 102 \tTraining Loss: 5.224825\n",
      "Epoch: 103 \tTraining Loss: 5.219573\n",
      "Epoch: 104 \tTraining Loss: 5.214618\n",
      "Epoch: 105 \tTraining Loss: 5.209941\n",
      "Epoch: 106 \tTraining Loss: 5.200997\n",
      "Epoch: 107 \tTraining Loss: 5.204259\n",
      "Epoch: 108 \tTraining Loss: 5.196485\n",
      "Epoch: 109 \tTraining Loss: 5.193851\n",
      "Epoch: 110 \tTraining Loss: 5.185306\n",
      "Test Loss: 5.172 | Accuracy: 1.163\n",
      "Epoch: 111 \tTraining Loss: 5.182352\n",
      "Epoch: 112 \tTraining Loss: 5.173931\n",
      "Epoch: 113 \tTraining Loss: 5.168847\n",
      "Epoch: 114 \tTraining Loss: 5.162038\n",
      "Epoch: 115 \tTraining Loss: 5.157879\n",
      "Epoch: 116 \tTraining Loss: 5.154832\n",
      "Epoch: 117 \tTraining Loss: 5.152474\n",
      "Epoch: 118 \tTraining Loss: 5.146975\n",
      "Epoch: 119 \tTraining Loss: 5.140366\n",
      "Epoch: 120 \tTraining Loss: 5.129583\n",
      "Test Loss: 5.131 | Accuracy: 1.938\n",
      "Epoch: 121 \tTraining Loss: 5.131302\n",
      "Epoch: 122 \tTraining Loss: 5.127870\n",
      "Epoch: 123 \tTraining Loss: 5.126850\n",
      "Epoch: 124 \tTraining Loss: 5.116181\n",
      "Epoch: 125 \tTraining Loss: 5.118420\n",
      "Epoch: 126 \tTraining Loss: 5.112541\n",
      "Epoch: 127 \tTraining Loss: 5.110112\n",
      "Epoch: 128 \tTraining Loss: 5.103613\n",
      "Epoch: 129 \tTraining Loss: 5.099452\n",
      "Epoch: 130 \tTraining Loss: 5.098203\n",
      "Test Loss: 5.099 | Accuracy: 1.550\n",
      "Epoch: 131 \tTraining Loss: 5.093006\n",
      "Epoch: 132 \tTraining Loss: 5.090341\n",
      "Epoch: 133 \tTraining Loss: 5.088637\n",
      "Epoch: 134 \tTraining Loss: 5.083647\n",
      "Epoch: 135 \tTraining Loss: 5.075722\n",
      "Epoch: 136 \tTraining Loss: 5.075200\n",
      "Epoch: 137 \tTraining Loss: 5.074368\n",
      "Epoch: 138 \tTraining Loss: 5.065943\n",
      "Epoch: 139 \tTraining Loss: 5.065222\n",
      "Epoch: 140 \tTraining Loss: 5.059764\n",
      "Test Loss: 5.069 | Accuracy: 0.775\n",
      "Epoch: 141 \tTraining Loss: 5.060352\n",
      "Epoch: 142 \tTraining Loss: 5.052842\n",
      "Epoch: 143 \tTraining Loss: 5.050486\n",
      "Epoch: 144 \tTraining Loss: 5.053678\n",
      "Epoch: 145 \tTraining Loss: 5.049489\n",
      "Epoch: 146 \tTraining Loss: 5.039871\n",
      "Epoch: 147 \tTraining Loss: 5.040290\n",
      "Epoch: 148 \tTraining Loss: 5.032904\n",
      "Epoch: 149 \tTraining Loss: 5.035778\n",
      "Epoch: 150 \tTraining Loss: 5.034137\n"
     ]
    }
   ],
   "source": [
    "epochs = 150\n",
    "interval = 10 # For checkpoints and validation\n",
    "\n",
    "losses = []\n",
    "eval_accu = []\n",
    "eval_losses=[]\n",
    "\n",
    "csn.to(device)\n",
    "csn.train()\n",
    "\n",
    "for epoch in range(epochs):\n",
    "    # Reset train loss\n",
    "    train_loss = 0.0\n",
    "    for video_batch, targets in train_loader:\n",
    "        # Move data to device\n",
    "        video_batch, targets = video_batch.to(device), targets.to(device)\n",
    "        \n",
    "        # batch_size, n_frames, channels, h, w -> previous doesn't work\n",
    "        # batch_size, channels, n_frames, h, w -> current\n",
    "        predictions = csn(video_batch.permute(0,2,1,3,4))\n",
    "        \n",
    "        # Calculate loss\n",
    "        loss = loss_fn(predictions, targets)\n",
    "        \n",
    "        # Backpropagate\n",
    "        optimizer.zero_grad()\n",
    "        loss.backward()\n",
    "        \n",
    "        optimizer.step()\n",
    "        scheduler.step()\n",
    "        \n",
    "        # Calculate batch loss\n",
    "        train_loss += loss.item()\n",
    "\n",
    "    \n",
    "    # Check for interval to validate and save checkpoints\n",
    "    if interval!=0 and epoch%interval==0:\n",
    "        running_loss=0\n",
    "        correct=0\n",
    "        total=0\n",
    "        with torch.no_grad():\n",
    "            for video_batch, targets in test_loader:\n",
    "                video_batch, targets = video_batch.to(device), targets.to(device)\n",
    "\n",
    "                predictions = csn(video_batch.permute(0,2,1,3,4))\n",
    "                x = predictions\n",
    "                \n",
    "                loss = loss_fn(predictions, targets)\n",
    "                running_loss += loss.item()\n",
    "\n",
    "                _, predicted = predictions.max(1)\n",
    "                total += targets.size(0)\n",
    "                correct += predicted.eq(targets).sum().item()\n",
    "\n",
    "        test_loss=running_loss/len(test_loader)\n",
    "        accu=100.*correct/total\n",
    "\n",
    "        eval_losses.append(test_loss)\n",
    "        eval_accu.append(accu)\n",
    "        print('Test Loss: %.3f | Accuracy: %.3f'%(test_loss,accu)) \n",
    "\n",
    "    train_loss = train_loss/len(train_loader)\n",
    "    losses.append(train_loss)\n",
    "    print(f'Epoch: {epoch+1} \\tTraining Loss: {train_loss:.6f}')\n",
    "    \n",
    "    # Wandb Log\n",
    "    wandb.log({\"loss\": loss,\n",
    "              \"val/top_1_acc\": accu})"
   ]
  },
  {
   "cell_type": "code",
   "execution_count": 10,
   "id": "b6151056",
   "metadata": {},
   "outputs": [
    {
     "data": {
      "text/plain": [
       "Text(0.5, 0, 'Epoch')"
      ]
     },
     "execution_count": 10,
     "metadata": {},
     "output_type": "execute_result"
    },
    {
     "data": {
      "image/png": "[encoded data removed]",
      "text/plain": [
       "<Figure size 432x288 with 1 Axes>"
      ]
     },
     "metadata": {
      "needs_background": "light"
     },
     "output_type": "display_data"
    }
   ],
   "source": [
    "plt.plot(losses)\n",
    "plt.title('Loss Graph')\n",
    "plt.ylabel('Loss')\n",
    "plt.xlabel('Epoch')"
   ]
  }
 ],
 "metadata": {
  "kernelspec": {
   "display_name": "mmsign",
   "language": "python",
   "name": "mmsign"
  },
  "language_info": {
   "codemirror_mode": {
    "name": "ipython",
    "version": 3
   },
   "file_extension": ".py",
   "mimetype": "text/x-python",
   "name": "python",
   "nbconvert_exporter": "python",
   "pygments_lexer": "ipython3",
   "version": "3.8.15"
  }
 },
 "nbformat": 4,
 "nbformat_minor": 5
}
