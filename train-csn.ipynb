{
 "cells": [
  {
   "cell_type": "markdown",
   "id": "4471eecf",
   "metadata": {},
   "source": [
    "# CSN-Pytorch"
   ]
  },
  {
   "cell_type": "markdown",
   "id": "8e20812f",
   "metadata": {},
   "source": [
    "## Imports"
   ]
  },
  {
   "cell_type": "code",
   "execution_count": 1,
   "id": "f83e5ded",
   "metadata": {},
   "outputs": [
    {
     "name": "stderr",
     "output_type": "stream",
     "text": [
      "\u001b[34m\u001b[1mwandb\u001b[0m: Currently logged in as: \u001b[33msttaseen\u001b[0m (\u001b[33mcares\u001b[0m). Use \u001b[1m`wandb login --relogin`\u001b[0m to force relogin\n"
     ]
    },
    {
     "data": {
      "text/html": [
       "wandb version 0.13.9 is available!  To upgrade, please run:\n",
       " $ pip install wandb --upgrade"
      ],
      "text/plain": [
       "<IPython.core.display.HTML object>"
      ]
     },
     "metadata": {},
     "output_type": "display_data"
    },
    {
     "data": {
      "text/html": [
       "Tracking run with wandb version 0.13.5"
      ],
      "text/plain": [
       "<IPython.core.display.HTML object>"
      ]
     },
     "metadata": {},
     "output_type": "display_data"
    },
    {
     "data": {
      "text/html": [
       "Run data is saved locally in <code>/home/sadat/Desktop/csn-sign-autoencoder/wandb/run-20230120_190333-2ww4ov8f</code>"
      ],
      "text/plain": [
       "<IPython.core.display.HTML object>"
      ]
     },
     "metadata": {},
     "output_type": "display_data"
    },
    {
     "data": {
      "text/html": [
       "Syncing run <strong><a href=\"https://wandb.ai/cares/autoencoder-experiments/runs/2ww4ov8f\" target=\"_blank\">ethereal-deluge-2</a></strong> to <a href=\"https://wandb.ai/cares/autoencoder-experiments\" target=\"_blank\">Weights & Biases</a> (<a href=\"https://wandb.me/run\" target=\"_blank\">docs</a>)<br/>"
      ],
      "text/plain": [
       "<IPython.core.display.HTML object>"
      ]
     },
     "metadata": {},
     "output_type": "display_data"
    },
    {
     "data": {
      "text/html": [
       "<button onClick=\"this.nextSibling.style.display='block';this.style.display='none';\">Display W&B run</button><iframe src=\"https://wandb.ai/cares/autoencoder-experiments/runs/2ww4ov8f?jupyter=true\" style=\"border:none;width:100%;height:420px;display:none;\"></iframe>"
      ],
      "text/plain": [
       "<wandb.sdk.wandb_run.Run at 0x7f29a6fa3940>"
      ]
     },
     "execution_count": 1,
     "metadata": {},
     "output_type": "execute_result"
    }
   ],
   "source": [
    "import os\n",
    "import torch\n",
    "import torch.nn as nn\n",
    "import matplotlib.pyplot as plt\n",
    "import wandb\n",
    "from csn import csn152\n",
    "from torchvision import transforms\n",
    "from video_dataset import VideoFrameDataset, ImglistToTensor\n",
    "\n",
    "wandb.init(entity=\"cares\", project=\"autoencoder-experiments\", group=\"pytorch-cnn\")"
   ]
  },
  {
   "cell_type": "markdown",
   "id": "a6c5995d",
   "metadata": {},
   "source": [
    "## Device Agnostic Code"
   ]
  },
  {
   "cell_type": "code",
   "execution_count": 2,
   "id": "be3f9005",
   "metadata": {},
   "outputs": [],
   "source": [
    "try:\n",
    "    device = 'mps' if torch.backends.mps.is_available() else 'cpu'\n",
    "except:\n",
    "    device = 'cuda' if torch.cuda.is_available() else 'cpu'"
   ]
  },
  {
   "cell_type": "markdown",
   "id": "e79fbde9",
   "metadata": {},
   "source": [
    "## Data Setup"
   ]
  },
  {
   "cell_type": "code",
   "execution_count": 3,
   "id": "f27c532d",
   "metadata": {},
   "outputs": [],
   "source": [
    "data_root = os.path.join(os.getcwd(), 'data/wlasl/rawframes') \n",
    "ann_file_train = os.path.join(os.getcwd(), 'data/wlasl/train_annotations.txt') \n",
    "ann_file_test = os.path.join(os.getcwd(), 'data/wlasl/test_annotations.txt')\n",
    "batch_size = 16\n",
    "\n",
    "# Setting up data transforms\n",
    "train_pipeline = transforms.Compose([\n",
    "        ImglistToTensor(), # list of PIL images to (FRAMES x CHANNELS x HEIGHT x WIDTH) tensor\n",
    "        transforms.Resize(256), # image batch, resize smaller edge to 256\n",
    "        transforms.RandomResizedCrop((224, 224)), # image batch, center crop to square 224x224\n",
    "        transforms.RandomHorizontalFlip(),\n",
    "        transforms.Normalize(mean=[0.485, 0.456, 0.406], std=[0.229, 0.224, 0.225]),\n",
    "    ])\n",
    "\n",
    "test_pipeline = transforms.Compose([\n",
    "        ImglistToTensor(), # list of PIL images to (FRAMES x CHANNELS x HEIGHT x WIDTH) tensor\n",
    "        transforms.Resize(256),  # image batch, resize smaller edge to 256\n",
    "        transforms.CenterCrop((224, 224)),  # image batch, center crop to square 224x224\n",
    "        transforms.Normalize(mean=[0.485, 0.456, 0.406], std=[0.229, 0.224, 0.225]),\n",
    "    ])\n",
    "\n",
    "# Setting up datasets\n",
    "train_dataset = VideoFrameDataset(\n",
    "    root_path=data_root,\n",
    "    annotationfile_path=ann_file_train,\n",
    "    num_segments=5,\n",
    "    frames_per_segment=1,\n",
    "    imagefile_template='img_{:05d}.jpg',\n",
    "    transform=train_pipeline,\n",
    "    test_mode=False\n",
    ")\n",
    "\n",
    "\n",
    "test_dataset = VideoFrameDataset(\n",
    "    root_path=data_root,\n",
    "    annotationfile_path=ann_file_test,\n",
    "    num_segments=5,\n",
    "    frames_per_segment=1,\n",
    "    imagefile_template='img_{:05d}.jpg',\n",
    "    transform=test_pipeline,\n",
    "    test_mode=True\n",
    ")\n",
    "\n",
    "# Setting up dataloaders\n",
    "train_loader = torch.utils.data.DataLoader(dataset=train_dataset,\n",
    "                                    batch_size=batch_size,\n",
    "                                    shuffle=False,\n",
    "                                    num_workers=4,\n",
    "                                    pin_memory=False)\n",
    "\n",
    "test_loader = torch.utils.data.DataLoader(dataset=test_dataset,\n",
    "                                    batch_size=2,\n",
    "                                    shuffle=False,\n",
    "                                    num_workers=4,\n",
    "                                    pin_memory=False)"
   ]
  },
  {
   "cell_type": "code",
   "execution_count": 4,
   "id": "80c10431",
   "metadata": {
    "scrolled": false
   },
   "outputs": [
    {
     "data": {
      "text/plain": [
       "16"
      ]
     },
     "execution_count": 4,
     "metadata": {},
     "output_type": "execute_result"
    }
   ],
   "source": [
    "# Testing dataloader\n",
    "dataiter = iter(train_loader)\n",
    "get = next(dataiter)\n",
    "get[0].size(0)"
   ]
  },
  {
   "cell_type": "code",
   "execution_count": 5,
   "id": "e29a26a3",
   "metadata": {},
   "outputs": [
    {
     "data": {
      "text/plain": [
       "torch.Size([16, 3, 5, 224, 224])"
      ]
     },
     "execution_count": 5,
     "metadata": {},
     "output_type": "execute_result"
    }
   ],
   "source": [
    "reshape = get[0].permute(0,2,1,3,4)\n",
    "reshape.shape"
   ]
  },
  {
   "cell_type": "markdown",
   "id": "7b284bb6",
   "metadata": {},
   "source": [
    "## Set up model, loss, optimiser and others"
   ]
  },
  {
   "cell_type": "code",
   "execution_count": 6,
   "id": "0affec25",
   "metadata": {},
   "outputs": [
    {
     "data": {
      "text/plain": [
       "[]"
      ]
     },
     "execution_count": 6,
     "metadata": {},
     "output_type": "execute_result"
    }
   ],
   "source": [
    "# Create a CSN model\n",
    "csn = csn152(num_classes=400)\n",
    "\n",
    "# Specify loss function\n",
    "loss_fn = nn.CrossEntropyLoss()\n",
    "\n",
    "# Specify loss function\n",
    "optimizer = torch.optim.SGD(csn.parameters(), lr=0.000125, momentum=0.9, weight_decay=0.0001)\n",
    "\n",
    "# Specify learning rate scheduler\n",
    "scheduler = torch.optim.lr_scheduler.MultiStepLR(optimizer, milestones=[12,16])\n",
    "\n",
    "# Setup wandb\n",
    "wandb.watch(csn, log_freq=100)"
   ]
  },
  {
   "cell_type": "markdown",
   "id": "d0f04acf",
   "metadata": {},
   "source": [
    "## Train model"
   ]
  },
  {
   "cell_type": "code",
   "execution_count": null,
   "id": "e37ab464",
   "metadata": {},
   "outputs": [
    {
     "name": "stdout",
     "output_type": "stream",
     "text": [
      "Test Loss: 5.720 | Accuracy: 11.765\n",
      "Epoch: 1 \tTraining Loss: 90.273099\n",
      "Epoch: 2 \tTraining Loss: 79.775211\n",
      "Epoch: 3 \tTraining Loss: 73.044076\n",
      "Epoch: 4 \tTraining Loss: 73.119954\n",
      "Epoch: 5 \tTraining Loss: 73.598534\n",
      "Test Loss: 4.908 | Accuracy: 11.765\n",
      "Epoch: 6 \tTraining Loss: 72.249646\n",
      "Epoch: 7 \tTraining Loss: 72.619099\n",
      "Epoch: 8 \tTraining Loss: 72.630196\n",
      "Epoch: 9 \tTraining Loss: 72.619281\n",
      "Epoch: 10 \tTraining Loss: 72.269120\n"
     ]
    }
   ],
   "source": [
    "epochs = 20\n",
    "interval = 5 # For checkpoints and validation\n",
    "\n",
    "losses = []\n",
    "eval_accu = []\n",
    "eval_losses=[]\n",
    "\n",
    "csn.to(device)\n",
    "csn.train()\n",
    "\n",
    "for epoch in range(epochs):\n",
    "    # Reset train loss\n",
    "    train_loss = 0.0\n",
    "    for video_batch, targets in train_loader:\n",
    "        # Move data to device\n",
    "        video_batch, targets = video_batch.to(device), targets.to(device)\n",
    "        \n",
    "        # batch_size, n_frames, channels, h, w -> previous doesn't work\n",
    "        # batch_size, channels, n_frames, h, w -> current\n",
    "        predictions = csn(video_batch.permute(0,2,1,3,4))\n",
    "        \n",
    "        # Calculate loss\n",
    "        loss = loss_fn(predictions, targets)\n",
    "        \n",
    "        # Backpropagate\n",
    "        optimizer.zero_grad()\n",
    "        loss.backward()\n",
    "        \n",
    "        optimizer.step()\n",
    "        scheduler.step()\n",
    "        \n",
    "        # Calculate batch loss\n",
    "        train_loss += loss.item()*video_batch.size(0)\n",
    "        \n",
    "\n",
    "    # Check for interval to validate and save checkpoints\n",
    "    if interval!=0 and epoch%interval==0:\n",
    "        running_loss=0\n",
    "        correct=0\n",
    "        total=0\n",
    "        with torch.no_grad():\n",
    "            for video_batch, targets in test_loader:\n",
    "                video_batch, targets = video_batch.to(device), targets.to(device)\n",
    "\n",
    "                predictions = csn(video_batch.permute(0,2,1,3,4))\n",
    "\n",
    "                loss = loss_fn(predictions, targets)\n",
    "                running_loss += loss.item()\n",
    "\n",
    "                _, predicted = predictions.max(1)\n",
    "                total += targets.size(0)\n",
    "                correct += predicted.eq(targets).sum().item()\n",
    "\n",
    "        test_loss=running_loss/len(test_loader)\n",
    "        accu=100.*correct/total\n",
    "\n",
    "        eval_losses.append(test_loss)\n",
    "        eval_accu.append(accu)\n",
    "        print('Test Loss: %.3f | Accuracy: %.3f'%(test_loss,accu)) \n",
    "\n",
    "    train_loss = train_loss/len(train_loader)\n",
    "    losses.append(train_loss)\n",
    "    print(f'Epoch: {epoch+1} \\tTraining Loss: {train_loss:.6f}')\n",
    "    \n",
    "    # Wandb Log\n",
    "    wandb.log({\"loss\": loss,\n",
    "              \"top_1_acc\": accu})"
   ]
  },
  {
   "cell_type": "code",
   "execution_count": null,
   "id": "0bfc205a",
   "metadata": {},
   "outputs": [],
   "source": [
    "plt.plot(losses)\n",
    "plt.title('Loss Graph')\n",
    "plt.ylabel('Loss')\n",
    "plt.xlabel('Epoch')"
   ]
  }
 ],
 "metadata": {
  "kernelspec": {
   "display_name": "mmsign",
   "language": "python",
   "name": "mmsign"
  },
  "language_info": {
   "codemirror_mode": {
    "name": "ipython",
    "version": 3
   },
   "file_extension": ".py",
   "mimetype": "text/x-python",
   "name": "python",
   "nbconvert_exporter": "python",
   "pygments_lexer": "ipython3",
   "version": "3.8.15"
  }
 },
 "nbformat": 4,
 "nbformat_minor": 5
}
