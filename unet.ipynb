{
 "cells": [
  {
   "cell_type": "code",
   "execution_count": 1,
   "id": "23cadcf0",
   "metadata": {},
   "outputs": [
    {
     "name": "stderr",
     "output_type": "stream",
     "text": [
      "/home/sadat/miniconda3/envs/dataloader/lib/python3.8/site-packages/tqdm/auto.py:22: TqdmWarning: IProgress not found. Please update jupyter and ipywidgets. See https://ipywidgets.readthedocs.io/en/stable/user_install.html\n",
      "  from .autonotebook import tqdm as notebook_tqdm\n"
     ]
    }
   ],
   "source": [
    "import torch\n",
    "import torch.nn as nn\n",
    "import torch.nn.functional as F"
   ]
  },
  {
   "cell_type": "code",
   "execution_count": 2,
   "id": "04338f4e",
   "metadata": {},
   "outputs": [],
   "source": [
    "class DoubleConv(nn.Module):\n",
    "    \"\"\"(convolution => [BN] => ReLU) * 2\"\"\"\n",
    "\n",
    "    def __init__(self, in_channels, out_channels, mid_channels=None):\n",
    "        super().__init__()\n",
    "        if not mid_channels:\n",
    "            mid_channels = out_channels\n",
    "        self.double_conv = nn.Sequential(\n",
    "            nn.Conv2d(in_channels, mid_channels, kernel_size=3, padding=1, bias=False),\n",
    "            nn.BatchNorm2d(mid_channels),\n",
    "            nn.ReLU(inplace=True),\n",
    "            nn.Conv2d(mid_channels, out_channels, kernel_size=3, padding=1, bias=False),\n",
    "            nn.BatchNorm2d(out_channels),\n",
    "            nn.ReLU(inplace=True)\n",
    "        )\n",
    "\n",
    "    def forward(self, x):\n",
    "        return self.double_conv(x)\n",
    "\n",
    "\n",
    "class Down(nn.Module):\n",
    "    \"\"\"Downscaling with maxpool then double conv\"\"\"\n",
    "\n",
    "    def __init__(self, in_channels, out_channels):\n",
    "        super().__init__()\n",
    "        self.maxpool_conv = nn.Sequential(\n",
    "            nn.MaxPool2d(2),\n",
    "            DoubleConv(in_channels, out_channels)\n",
    "        )\n",
    "\n",
    "    def forward(self, x):\n",
    "        return self.maxpool_conv(x)\n",
    "\n",
    "\n",
    "class Up(nn.Module):\n",
    "    \"\"\"Upscaling then double conv\"\"\"\n",
    "\n",
    "    def __init__(self, in_channels, out_channels, bilinear=True):\n",
    "        super().__init__()\n",
    "\n",
    "        # if bilinear, use the normal convolutions to reduce the number of channels\n",
    "        if bilinear:\n",
    "            self.up = nn.Upsample(scale_factor=2, mode='bilinear', align_corners=True)\n",
    "            self.conv = DoubleConv(in_channels, out_channels, in_channels // 2)\n",
    "        else:\n",
    "            self.up = nn.ConvTranspose2d(in_channels, in_channels // 2, kernel_size=2, stride=2)\n",
    "            self.conv = DoubleConv(in_channels, out_channels)\n",
    "\n",
    "    def forward(self, x1, x2):\n",
    "        x1 = self.up(x1)\n",
    "        # input is CHW\n",
    "        diffY = x2.size()[2] - x1.size()[2]\n",
    "        diffX = x2.size()[3] - x1.size()[3]\n",
    "\n",
    "        x1 = F.pad(x1, [diffX // 2, diffX - diffX // 2,\n",
    "                        diffY // 2, diffY - diffY // 2])\n",
    "        # if you have padding issues, see\n",
    "        # https://github.com/HaiyongJiang/U-Net-Pytorch-Unstructured-Buggy/commit/0e854509c2cea854e247a9c615f175f76fbb2e3a\n",
    "        # https://github.com/xiaopeng-liao/Pytorch-UNet/commit/8ebac70e633bac59fc22bb5195e513d5832fb3bd\n",
    "        x = torch.cat([x2, x1], dim=1)\n",
    "        return self.conv(x)\n",
    "\n",
    "\n",
    "class OutConv(nn.Module):\n",
    "    def __init__(self, in_channels, out_channels):\n",
    "        super(OutConv, self).__init__()\n",
    "        self.conv = nn.Conv2d(in_channels, out_channels, kernel_size=1)\n",
    "\n",
    "    def forward(self, x):\n",
    "        return self.conv(x)"
   ]
  },
  {
   "cell_type": "code",
   "execution_count": 3,
   "id": "7dfdc4f6",
   "metadata": {},
   "outputs": [],
   "source": [
    "class UNet(nn.Module):\n",
    "    def __init__(self, n_channels, n_classes, bilinear=False):\n",
    "        super(UNet, self).__init__()\n",
    "        self.n_channels = n_channels\n",
    "        self.n_classes = n_classes\n",
    "        self.bilinear = bilinear\n",
    "\n",
    "        self.inc = (DoubleConv(n_channels, 64))\n",
    "        self.down1 = (Down(64, 128))\n",
    "        self.down2 = (Down(128, 256))\n",
    "        self.down3 = (Down(256, 512))\n",
    "        factor = 2 if bilinear else 1\n",
    "        self.down4 = (Down(512, 1024 // factor))\n",
    "        self.up1 = (Up(1024, 512 // factor, bilinear))\n",
    "        self.up2 = (Up(512, 256 // factor, bilinear))\n",
    "        self.up3 = (Up(256, 128 // factor, bilinear))\n",
    "        self.up4 = (Up(128, 64, bilinear))\n",
    "        self.outc = (OutConv(64, n_classes))\n",
    "\n",
    "    def forward(self, x):\n",
    "        x1 = self.inc(x)\n",
    "        x2 = self.down1(x1)\n",
    "        x3 = self.down2(x2)\n",
    "        x4 = self.down3(x3)\n",
    "        x5 = self.down4(x4)\n",
    "        x = self.up1(x5, x4)\n",
    "        x = self.up2(x, x3)\n",
    "        x = self.up3(x, x2)\n",
    "        x = self.up4(x, x1)\n",
    "        logits = self.outc(x)\n",
    "        return logits"
   ]
  },
  {
   "cell_type": "code",
   "execution_count": 3,
   "id": "91245031",
   "metadata": {},
   "outputs": [],
   "source": [
    "class Block(nn.Module):\n",
    "    \"\"\"(convolution => [BN] => ReLU) * 3\"\"\"\n",
    "    # Note: CSN Bottleneck doesn't use ReLU for the last conv.\n",
    "\n",
    "    def __init__(self, in_channels, out_channels, mid_channels=None, conv2_stride=1):\n",
    "        super().__init__()\n",
    "        if not mid_channels:\n",
    "            mid_channels = out_channels\n",
    "        self.triple_conv = nn.Sequential(\n",
    "            nn.Conv3d(in_channels, mid_channels, kernel_size=1, stride=1, bias=False),\n",
    "            nn.BatchNorm3d(mid_channels),\n",
    "            nn.ReLU(inplace=True),\n",
    "            nn.Conv3d(mid_channels, mid_channels, kernel_size=3, stride=conv2_stride, padding=1,\n",
    "                      bias=False, groups=mid_channels),\n",
    "            nn.BatchNorm3d(mid_channels),\n",
    "            nn.ReLU(inplace=True),\n",
    "            nn.Conv3d(mid_channels, out_channels, kernel_size=1, stride=1, bias=False),\n",
    "            nn.BatchNorm3d(out_channels),\n",
    "            nn.ReLU(inplace=True)\n",
    "        )\n",
    "\n",
    "    def forward(self, x):\n",
    "        return self.triple_conv(x)"
   ]
  },
  {
   "cell_type": "code",
   "execution_count": 41,
   "id": "2e9d70ce",
   "metadata": {},
   "outputs": [],
   "source": [
    "class Layer(nn.Module):\n",
    "    def __init__(self, in_channels, out_channels, mid_channels, n_blocks, conv2_stride=2):\n",
    "        super().__init__()\n",
    "        if not mid_channels:\n",
    "            mid_channels = out_channels\n",
    "        \n",
    "        modules = []\n",
    "        modules.append(Block(in_channels, in_channels, mid_channels))\n",
    "        \n",
    "        for i in range(n_blocks-2):\n",
    "            modules.append(Block(in_channels, in_channels, mid_channels))\n",
    "        \n",
    "        modules.append(Block(in_channels, out_channels, mid_channels, conv2_stride=conv2_stride))\n",
    "        \n",
    "        self.block = nn.Sequential(*modules)\n",
    "        \n",
    "    def forward(self, x):\n",
    "        return self.block(x)"
   ]
  },
  {
   "cell_type": "code",
   "execution_count": 42,
   "id": "a3b6b4ff",
   "metadata": {},
   "outputs": [],
   "source": [
    "class Up(nn.Module):\n",
    "    \"\"\"Upscaling then triple conv\"\"\"\n",
    "\n",
    "    def __init__(self, in_channels, out_channels, mid_channels, n_blocks, conv2_stride=2):\n",
    "        super().__init__()\n",
    "        self.up = nn.ConvTranspose3d(in_channels, in_channels // 2, kernel_size=2, stride=2)\n",
    "        self.conv = Layer(in_channels, out_channels, mid_channels, n_blocks, conv2_stride)\n",
    "\n",
    "    def forward(self, x1, x2):\n",
    "        x1 = self.up(x1)\n",
    "        # input is CHW\n",
    "        diffY = x2.size()[2] - x1.size()[2]\n",
    "        diffX = x2.size()[3] - x1.size()[3]\n",
    "\n",
    "#         print(x2.shape)\n",
    "#         print(x1.shape)\n",
    "        \n",
    "        x1 = F.pad(x1, [diffX // 2, diffX - diffX // 2,\n",
    "                        diffY // 2, diffY - diffY // 2])\n",
    "        # if you have padding issues, see\n",
    "        # https://github.com/HaiyongJiang/U-Net-Pytorch-Unstructured-Buggy/commit/0e854509c2cea854e247a9c615f175f76fbb2e3a\n",
    "        # https://github.com/xiaopeng-liao/Pytorch-UNet/commit/8ebac70e633bac59fc22bb5195e513d5832fb3bd\n",
    "        x = torch.cat([x2, x1], dim=1)\n",
    "        return self.conv(x)"
   ]
  },
  {
   "cell_type": "code",
   "execution_count": 38,
   "id": "ea5a6c5a",
   "metadata": {},
   "outputs": [],
   "source": [
    "class OutConv(nn.Module):\n",
    "    def __init__(self, in_channels, out_channels):\n",
    "        super(OutConv, self).__init__()\n",
    "        self.conv = nn.Conv3d(in_channels, out_channels, kernel_size=(3,7,7), stride=(1,2,2), padding=(1,3,3), bias=False)\n",
    "\n",
    "    def forward(self, x):\n",
    "        return self.conv(x)"
   ]
  },
  {
   "cell_type": "code",
   "execution_count": 28,
   "id": "7ec7a273",
   "metadata": {},
   "outputs": [],
   "source": [
    "# x1 = torch.rand((1,64,32,112,112))\n",
    "# x2 = torch.rand((1,256,32,56,56))\n",
    "# x3 = torch.rand((1,512,16,28,28))\n",
    "x4 = torch.rand((1,1024,8,14,14))\n",
    "x5 = torch.rand((1,2048,4,7,7))"
   ]
  },
  {
   "cell_type": "code",
   "execution_count": 43,
   "id": "a814ed05",
   "metadata": {},
   "outputs": [],
   "source": [
    "up1 = Up(in_channels=2048, out_channels=1024, mid_channels=512, n_blocks=3)\n",
    "# up2 = Up(1024, 512, 6) \n",
    "# up3 = Up(512, 256, 4)\n",
    "# up4 = Up(256, 128, 3) \n",
    "# outc = OutConv(128, 3)"
   ]
  },
  {
   "cell_type": "code",
   "execution_count": 46,
   "id": "82d1fcb2",
   "metadata": {},
   "outputs": [
    {
     "data": {
      "text/plain": [
       "Up(\n",
       "  (up): ConvTranspose3d(2048, 1024, kernel_size=(2, 2, 2), stride=(2, 2, 2))\n",
       "  (conv): Layer(\n",
       "    (block): Sequential(\n",
       "      (0): Block(\n",
       "        (triple_conv): Sequential(\n",
       "          (0): Conv3d(2048, 512, kernel_size=(1, 1, 1), stride=(1, 1, 1), bias=False)\n",
       "          (1): BatchNorm3d(512, eps=1e-05, momentum=0.1, affine=True, track_running_stats=True)\n",
       "          (2): ReLU(inplace=True)\n",
       "          (3): Conv3d(512, 512, kernel_size=(3, 3, 3), stride=(1, 1, 1), padding=(1, 1, 1), groups=512, bias=False)\n",
       "          (4): BatchNorm3d(512, eps=1e-05, momentum=0.1, affine=True, track_running_stats=True)\n",
       "          (5): ReLU(inplace=True)\n",
       "          (6): Conv3d(512, 2048, kernel_size=(1, 1, 1), stride=(1, 1, 1), bias=False)\n",
       "          (7): BatchNorm3d(2048, eps=1e-05, momentum=0.1, affine=True, track_running_stats=True)\n",
       "          (8): ReLU(inplace=True)\n",
       "        )\n",
       "      )\n",
       "      (1): Block(\n",
       "        (triple_conv): Sequential(\n",
       "          (0): Conv3d(2048, 512, kernel_size=(1, 1, 1), stride=(1, 1, 1), bias=False)\n",
       "          (1): BatchNorm3d(512, eps=1e-05, momentum=0.1, affine=True, track_running_stats=True)\n",
       "          (2): ReLU(inplace=True)\n",
       "          (3): Conv3d(512, 512, kernel_size=(3, 3, 3), stride=(1, 1, 1), padding=(1, 1, 1), groups=512, bias=False)\n",
       "          (4): BatchNorm3d(512, eps=1e-05, momentum=0.1, affine=True, track_running_stats=True)\n",
       "          (5): ReLU(inplace=True)\n",
       "          (6): Conv3d(512, 2048, kernel_size=(1, 1, 1), stride=(1, 1, 1), bias=False)\n",
       "          (7): BatchNorm3d(2048, eps=1e-05, momentum=0.1, affine=True, track_running_stats=True)\n",
       "          (8): ReLU(inplace=True)\n",
       "        )\n",
       "      )\n",
       "      (2): Block(\n",
       "        (triple_conv): Sequential(\n",
       "          (0): Conv3d(2048, 512, kernel_size=(1, 1, 1), stride=(1, 1, 1), bias=False)\n",
       "          (1): BatchNorm3d(512, eps=1e-05, momentum=0.1, affine=True, track_running_stats=True)\n",
       "          (2): ReLU(inplace=True)\n",
       "          (3): Conv3d(512, 512, kernel_size=(3, 3, 3), stride=(2, 2, 2), padding=(1, 1, 1), groups=512, bias=False)\n",
       "          (4): BatchNorm3d(512, eps=1e-05, momentum=0.1, affine=True, track_running_stats=True)\n",
       "          (5): ReLU(inplace=True)\n",
       "          (6): Conv3d(512, 1024, kernel_size=(1, 1, 1), stride=(1, 1, 1), bias=False)\n",
       "          (7): BatchNorm3d(1024, eps=1e-05, momentum=0.1, affine=True, track_running_stats=True)\n",
       "          (8): ReLU(inplace=True)\n",
       "        )\n",
       "      )\n",
       "    )\n",
       "  )\n",
       ")"
      ]
     },
     "execution_count": 46,
     "metadata": {},
     "output_type": "execute_result"
    }
   ],
   "source": [
    "up1"
   ]
  },
  {
   "cell_type": "code",
   "execution_count": 45,
   "id": "a6e7e99d",
   "metadata": {},
   "outputs": [
    {
     "data": {
      "text/plain": [
       "torch.Size([1, 1024, 4, 7, 7])"
      ]
     },
     "execution_count": 45,
     "metadata": {},
     "output_type": "execute_result"
    }
   ],
   "source": [
    "x = up1(x5,x4)\n",
    "# x = up2(x, x3)\n",
    "# x = up3(x, x2)\n",
    "# x = up4(x, x1)\n",
    "# x = outc(x)\n",
    "x.shape"
   ]
  },
  {
   "cell_type": "code",
   "execution_count": null,
   "id": "6ca45944",
   "metadata": {},
   "outputs": [],
   "source": []
  },
  {
   "cell_type": "code",
   "execution_count": 148,
   "id": "1b29be0f",
   "metadata": {},
   "outputs": [],
   "source": [
    "x1, x2 = x, x1"
   ]
  },
  {
   "cell_type": "code",
   "execution_count": 149,
   "id": "b0fa44b1",
   "metadata": {
    "scrolled": true
   },
   "outputs": [
    {
     "data": {
      "text/plain": [
       "(torch.Size([1, 256, 32, 56, 56]), torch.Size([1, 64, 32, 112, 112]))"
      ]
     },
     "execution_count": 149,
     "metadata": {},
     "output_type": "execute_result"
    }
   ],
   "source": [
    "x1.shape, x2.shape"
   ]
  },
  {
   "cell_type": "code",
   "execution_count": 154,
   "id": "5fbb9de5",
   "metadata": {},
   "outputs": [],
   "source": [
    "up = nn.ConvTranspose3d(256, 256 // 2, kernel_size=2, stride=4)"
   ]
  },
  {
   "cell_type": "code",
   "execution_count": 155,
   "id": "d097dafa",
   "metadata": {},
   "outputs": [
    {
     "data": {
      "text/plain": [
       "torch.Size([1, 128, 126, 222, 222])"
      ]
     },
     "execution_count": 155,
     "metadata": {},
     "output_type": "execute_result"
    }
   ],
   "source": [
    "x1_upped = up(x1)\n",
    "x1_upped.shape"
   ]
  },
  {
   "cell_type": "code",
   "execution_count": null,
   "id": "ad3db2ae",
   "metadata": {},
   "outputs": [],
   "source": []
  },
  {
   "cell_type": "code",
   "execution_count": null,
   "id": "26c6ba65",
   "metadata": {},
   "outputs": [],
   "source": [
    "class resAutoencoder(nn.Module):\n",
    "    def __init__(self):\n",
    "        super(resAutoencoder, self).__init__()\n",
    "        self.inputchannel = 3\n",
    "        self.block1channel  = 256\n",
    "        self.block2channel = 512\n",
    "        self.block3channel = 1024\n",
    "        self.block4channel = 2048\n",
    "        \n",
    "        \n",
    "        # 128 x 128 x 3\n",
    "        self.conv = nn.Sequential(\n",
    "                        nn.Conv2d(self.inputchannel, self.block1channel, kernel_size = 7, stride = 2, padding = 3),\n",
    "                        nn.BatchNorm2d(self.block1channel),\n",
    "                        nn.ReLU())\n",
    "        # 64 x 64 x 64\n",
    "        self.encoder1 = nn.Sequential(\n",
    "            ResidualBlock(self.block1channel, self.block1channel, 1),\n",
    "            ResidualBlock(self.block1channel, self.block1channel, 1),\n",
    "            ResidualBlock(self.block1channel, self.block1channel, 1))\n",
    "    \n",
    "            # 64 x 64 x 128\n",
    "        self.encoder2 = nn.Sequential(\n",
    "            ResidualBlock(self.block1channel, self.block2channel, 2),\n",
    "            ResidualBlock(self.block2channel, self.block2channel, 1),\n",
    "            ResidualBlock(self.block2channel, self.block2channel, 1),\n",
    "            ResidualBlock(self.block2channel, self.block2channel, 1))\n",
    "            # 32 x 32 x 256\n",
    "        self.encoder3 = nn.Sequential(    \n",
    "            ResidualBlock(self.block2channel, self.block3channel, 2),\n",
    "            ResidualBlock(self.block3channel, self.block3channel, 1),\n",
    "            ResidualBlock(self.block3channel, self.block3channel, 1),\n",
    "            ResidualBlock(self.block3channel, self.block3channel, 1),\n",
    "            ResidualBlock(self.block3channel, self.block3channel, 1),\n",
    "            ResidualBlock(self.block3channel, self.block3channel, 1))\n",
    "            # 16 x 16 x 512\n",
    "        self.encoder4 =nn.Sequential(\n",
    "            ResidualBlock(self.block3channel, self.block4channel, 2),\n",
    "            ResidualBlock(self.block4channel, self.block4channel, 1),\n",
    "            ResidualBlock(self.block4channel, self.block4channel, 1))\n",
    "            # 8 x 8 x 512\n",
    "            \n",
    "        \n",
    "        self.decoder1 =nn.Sequential(\n",
    "            # 8 x 8 x 512\n",
    "            ResidualBlock(self.block4channel, self.block4channel, 1),\n",
    "            ResidualBlock(self.block4channel, self.block4channel, 1),\n",
    "            upsampleBlock(self.block4channel, self.block3channel))\n",
    "            # 16 x 16 x 512\n",
    "        self.decoder2 =nn.Sequential(\n",
    "            ResidualBlock(self.block3channel*2, self.block3channel, 1),\n",
    "            ResidualBlock(self.block3channel, self.block3channel, 1),\n",
    "            ResidualBlock(self.block3channel, self.block3channel, 1),\n",
    "            ResidualBlock(self.block3channel, self.block3channel, 1),\n",
    "            ResidualBlock(self.block3channel, self.block3channel, 1),\n",
    "            upsampleBlock(self.block3channel, self.block2channel))\n",
    "        self.decoder3 =nn.Sequential(\n",
    "            # 32 x 32 x 256        \n",
    "            ResidualBlock(self.block2channel*2, self.block2channel, 1),\n",
    "            ResidualBlock(self.block2channel, self.block2channel, 1),\n",
    "            ResidualBlock(self.block2channel, self.block2channel, 1),\n",
    "            upsampleBlock(self.block2channel, self.block1channel))\n",
    "            # 64 x 64 x 128\n",
    "        self.decoder4 =nn.Sequential(\n",
    "            ResidualBlock(self.block1channel*2, self.block1channel, 1),\n",
    "            ResidualBlock(self.block1channel, self.block1channel, 1),\n",
    "            ResidualBlock(self.block1channel, self.block1channel, 1))\n",
    "            # 128 x 128 x 3\n",
    "        self.convout = nn.Sequential(\n",
    "            nn.ConvTranspose2d(self.block1channel*2, self.inputchannel, 4, 2, 1, bias=False),\n",
    "            nn.Tanh())\n",
    "​\n",
    "        \n",
    "    def forward(self, x):\n",
    "        x1 = self.conv(x)\n",
    "        x2 = self.encoder1(x1)\n",
    "        x3 = self.encoder2(x2)\n",
    "        x4 = self.encoder3(x3)\n",
    "        x5 = self.encoder4(x4)\n",
    "        \n",
    "        x = self.decoder1(x5)\n",
    "        x = torch.cat((x, x4), dim=1)\n",
    "        x = self.decoder2(x)\n",
    "        x = torch.cat((x, x3), dim=1)\n",
    "        x = self.decoder3(x)\n",
    "        x = torch.cat((x, x2), dim=1)\n",
    "        x = self.decoder4(x)\n",
    "        x = torch.cat((x, x1), dim=1)\n",
    "        x = self.convout(x)"
   ]
  }
 ],
 "metadata": {
  "kernelspec": {
   "display_name": "dataloader",
   "language": "python",
   "name": "dataloader"
  },
  "language_info": {
   "codemirror_mode": {
    "name": "ipython",
    "version": 3
   },
   "file_extension": ".py",
   "mimetype": "text/x-python",
   "name": "python",
   "nbconvert_exporter": "python",
   "pygments_lexer": "ipython3",
   "version": "3.8.16"
  }
 },
 "nbformat": 4,
 "nbformat_minor": 5
}
